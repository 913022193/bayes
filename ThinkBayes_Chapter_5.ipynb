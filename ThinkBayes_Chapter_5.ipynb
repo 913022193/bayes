{
  "nbformat": 4,
  "nbformat_minor": 0,
  "metadata": {
    "colab": {
      "name": "ThinkBayes - Chapter 5.ipynb",
      "provenance": [],
      "collapsed_sections": [],
      "include_colab_link": true
    },
    "kernelspec": {
      "name": "python3",
      "display_name": "Python 3"
    }
  },
  "cells": [
    {
      "cell_type": "markdown",
      "metadata": {
        "id": "view-in-github",
        "colab_type": "text"
      },
      "source": [
        "<a href=\"https://colab.research.google.com/github/ricardoV94/ThinkBayesPymc3/blob/master/ThinkBayes_Chapter_5.ipynb\" target=\"_parent\"><img src=\"https://colab.research.google.com/assets/colab-badge.svg\" alt=\"Open In Colab\"/></a>"
      ]
    },
    {
      "cell_type": "code",
      "metadata": {
        "id": "_QFayNAHRAga",
        "colab_type": "code",
        "colab": {}
      },
      "source": [
        "%%capture\n",
        "pip install arviz"
      ],
      "execution_count": 0,
      "outputs": []
    },
    {
      "cell_type": "code",
      "metadata": {
        "id": "xVPW-yWN8sm1",
        "colab_type": "code",
        "colab": {}
      },
      "source": [
        "import numpy as np\n",
        "import pymc3 as pm\n",
        "import theano\n",
        "import theano.tensor as tt\n",
        "import arviz as az\n",
        "import matplotlib.pyplot as plt\n",
        "import seaborn as sns\n",
        "import scipy.stats as st"
      ],
      "execution_count": 0,
      "outputs": []
    },
    {
      "cell_type": "code",
      "metadata": {
        "id": "rj4d0MvkijBm",
        "colab_type": "code",
        "outputId": "fb6781f1-5a93-4ff9-f5a8-1f77958f8411",
        "colab": {
          "base_uri": "https://localhost:8080/",
          "height": 90
        }
      },
      "source": [
        "with pm.Model() as m_5_3:\n",
        "    p_blood = [1, 60, 39]\n",
        "    p_oliver_guilty = pm.Bernoulli('p_oliver_guilty', p=.5)\n",
        "                        \n",
        "    hyp1 = pm.Multinomial('hyp1', n=1, p=p_blood, shape=3, observed=np.array([1,0,0]))\n",
        "    hyp2 = pm.Multinomial('hyp2', n=2, p=p_blood, shape=3, observed=np.array([1,1,0]))\n",
        "\n",
        "    # Trick for observing different 'datasets' under each hypothesis\n",
        "    pm.Potential('like', pm.math.switch(p_oliver_guilty, hyp1.logpt, hyp2.logpt))\n",
        "    trace_m_5_3 = pm.sample(5000)"
      ],
      "execution_count": 3,
      "outputs": [
        {
          "output_type": "stream",
          "text": [
            "Sequential sampling (2 chains in 1 job)\n",
            "BinaryGibbsMetropolis: [p_oliver_guilty]\n",
            "100%|██████████| 5500/5500 [00:01<00:00, 3093.98it/s]\n",
            "100%|██████████| 5500/5500 [00:00<00:00, 5880.82it/s]\n"
          ],
          "name": "stderr"
        }
      ]
    },
    {
      "cell_type": "code",
      "metadata": {
        "id": "ips1_Uiu-A_q",
        "colab_type": "code",
        "colab": {
          "base_uri": "https://localhost:8080/",
          "height": 35
        },
        "outputId": "ff655395-f1a8-4fa8-eb7d-b2a78ac21cc2"
      },
      "source": [
        "p = trace_m_5_3['p_oliver_guilty'].mean()\n",
        "p"
      ],
      "execution_count": 4,
      "outputs": [
        {
          "output_type": "execute_result",
          "data": {
            "text/plain": [
              "0.4574"
            ]
          },
          "metadata": {
            "tags": []
          },
          "execution_count": 4
        }
      ]
    },
    {
      "cell_type": "code",
      "metadata": {
        "id": "v9WXUEqdmRJT",
        "colab_type": "code",
        "outputId": "f1c1de48-0a18-439b-a969-1462c743c6b1",
        "colab": {
          "base_uri": "https://localhost:8080/",
          "height": 35
        }
      },
      "source": [
        "print('odds_ratio:', (1-p)/(p))"
      ],
      "execution_count": 5,
      "outputs": [
        {
          "output_type": "stream",
          "text": [
            "odds_ratio: 1.1862702229995628\n"
          ],
          "name": "stdout"
        }
      ]
    },
    {
      "cell_type": "markdown",
      "metadata": {
        "id": "Pyv9Gqv2UZEL",
        "colab_type": "text"
      },
      "source": [
        "## 5.4 Addends"
      ]
    },
    {
      "cell_type": "code",
      "metadata": {
        "id": "W1gHffSYbLui",
        "colab_type": "code",
        "outputId": "ce5e9f16-1630-47d9-ea6d-3bc21bbbe1a4",
        "colab": {
          "base_uri": "https://localhost:8080/",
          "height": 109
        }
      },
      "source": [
        "with pm.Model() as m_5_4:\n",
        "    die = pm.DiscreteUniform('die', lower=1, upper=6, shape=3)\n",
        "    sum_3 = pm.Deterministic('sum_3', tt.sum(die))\n",
        "    trace_m_5_4 = pm.sample(2000)"
      ],
      "execution_count": 6,
      "outputs": [
        {
          "output_type": "stream",
          "text": [
            "Sequential sampling (2 chains in 1 job)\n",
            "Metropolis: [die]\n",
            "100%|██████████| 2500/2500 [00:00<00:00, 5660.82it/s]\n",
            "100%|██████████| 2500/2500 [00:00<00:00, 5829.57it/s]\n",
            "The number of effective samples is smaller than 10% for some parameters.\n"
          ],
          "name": "stderr"
        }
      ]
    },
    {
      "cell_type": "code",
      "metadata": {
        "id": "kP8Au62RLRsm",
        "colab_type": "code",
        "colab": {
          "base_uri": "https://localhost:8080/",
          "height": 331
        },
        "outputId": "2211f8ef-cc11-44ae-f5e6-071ec68c4d2d"
      },
      "source": [
        "az.plot_posterior(trace_m_5_4['sum_3'], ec='w')\n",
        "plt.xlim([2, 19])"
      ],
      "execution_count": 7,
      "outputs": [
        {
          "output_type": "execute_result",
          "data": {
            "text/plain": [
              "(2, 19)"
            ]
          },
          "metadata": {
            "tags": []
          },
          "execution_count": 7
        },
        {
          "output_type": "display_data",
          "data": {
            "image/png": "[encoded data removed]",
            "text/plain": [
              "<Figure size 432x288 with 1 Axes>"
            ]
          },
          "metadata": {
            "tags": []
          }
        }
      ]
    },
    {
      "cell_type": "code",
      "metadata": {
        "id": "qE0zOwAZTTey",
        "colab_type": "code",
        "colab": {
          "base_uri": "https://localhost:8080/",
          "height": 35
        },
        "outputId": "b061f806-6828-4f8e-9ba1-987bf67ce283"
      },
      "source": [
        "np.zeros((3,6)).sum(0).shape"
      ],
      "execution_count": 8,
      "outputs": [
        {
          "output_type": "execute_result",
          "data": {
            "text/plain": [
              "(6,)"
            ]
          },
          "metadata": {
            "tags": []
          },
          "execution_count": 8
        }
      ]
    },
    {
      "cell_type": "markdown",
      "metadata": {
        "id": "WcjwyoCvNS1w",
        "colab_type": "text"
      },
      "source": [
        "## 5.5 Maxima"
      ]
    },
    {
      "cell_type": "code",
      "metadata": {
        "id": "a-v1CiwGgHOi",
        "colab_type": "code",
        "colab": {
          "base_uri": "https://localhost:8080/",
          "height": 109
        },
        "outputId": "f094a0d0-9b43-43f9-c8bb-e27641dd35ce"
      },
      "source": [
        "with pm.Model() as m_5_5:\n",
        "    die = pm.DiscreteUniform('die', lower=1, upper=6, shape=(3,6))\n",
        "    max_sum_3 = pm.Deterministic('max_sum_3', tt.max(tt.sum(die, axis=0)))\n",
        "    trace_m_5_5 = pm.sample(10000)"
      ],
      "execution_count": 9,
      "outputs": [
        {
          "output_type": "stream",
          "text": [
            "Sequential sampling (2 chains in 1 job)\n",
            "Metropolis: [die]\n",
            "100%|██████████| 10500/10500 [00:01<00:00, 5846.17it/s]\n",
            "100%|██████████| 10500/10500 [00:01<00:00, 5690.10it/s]\n",
            "The estimated number of effective samples is smaller than 200 for some parameters.\n"
          ],
          "name": "stderr"
        }
      ]
    },
    {
      "cell_type": "code",
      "metadata": {
        "id": "qgPIh5PxNZHA",
        "colab_type": "code",
        "colab": {
          "base_uri": "https://localhost:8080/",
          "height": 331
        },
        "outputId": "9ba6dc43-ce94-4068-9dba-f9d354c2bd06"
      },
      "source": [
        "az.plot_posterior(trace_m_5_5['max_sum_3'], ec='w')\n",
        "plt.xlim([2, 19])"
      ],
      "execution_count": 10,
      "outputs": [
        {
          "output_type": "execute_result",
          "data": {
            "text/plain": [
              "(2, 19)"
            ]
          },
          "metadata": {
            "tags": []
          },
          "execution_count": 10
        },
        {
          "output_type": "display_data",
          "data": {
            "image/png": "[encoded data removed]",
            "text/plain": [
              "<Figure size 432x288 with 1 Axes>"
            ]
          },
          "metadata": {
            "tags": []
          }
        }
      ]
    },
    {
      "cell_type": "code",
      "metadata": {
        "id": "9BeBL4kONdwh",
        "colab_type": "code",
        "colab": {
          "base_uri": "https://localhost:8080/",
          "height": 35
        },
        "outputId": "d975206a-6662-482d-f2be-bf6c722e4d92"
      },
      "source": [
        "np.mean(trace_m_5_5['max_sum_3'] >= 18)"
      ],
      "execution_count": 11,
      "outputs": [
        {
          "output_type": "execute_result",
          "data": {
            "text/plain": [
              "0.02395"
            ]
          },
          "metadata": {
            "tags": []
          },
          "execution_count": 11
        }
      ]
    },
    {
      "cell_type": "markdown",
      "metadata": {
        "id": "DBr9a0VAU8Ud",
        "colab_type": "text"
      },
      "source": [
        "## 5.6 Mixtures"
      ]
    },
    {
      "cell_type": "code",
      "metadata": {
        "id": "pvAnapqwT8FI",
        "colab_type": "code",
        "colab": {
          "base_uri": "https://localhost:8080/",
          "height": 171
        },
        "outputId": "78785a91-843d-46d2-adde-8cc17f1d83a2"
      },
      "source": [
        "with pm.Model() as m_5_6:\n",
        "    upper = np.array([4,6,8,12,20])\n",
        "    dice = pm.DiscreteUniform.dist(lower=1, upper=upper)\n",
        "    \n",
        "    weights = np.ones(len(upper))/len(upper)\n",
        "    roll = pm.Mixture('roll', comp_dists=dice, w=weights, testval=5, dtype='int64') # testval and dtype are needed to avoid critical bugs in Mixture sampling\n",
        "\n",
        "    trace_m_5_6 = pm.sample(10000)\n",
        "pm.model_to_graphviz(m_5_6)"
      ],
      "execution_count": 12,
      "outputs": [
        {
          "output_type": "stream",
          "text": [
            "Sequential sampling (2 chains in 1 job)\n",
            "Metropolis: [roll]\n",
            "100%|██████████| 10500/10500 [00:01<00:00, 5646.24it/s]\n",
            "100%|██████████| 10500/10500 [00:01<00:00, 5632.88it/s]\n",
            "The number of effective samples is smaller than 10% for some parameters.\n"
          ],
          "name": "stderr"
        },
        {
          "output_type": "execute_result",
          "data": {
            "text/plain": [
              "<graphviz.dot.Digraph at 0x7f8cfb9f4048>"
            ],
            "image/svg+xml": "<?xml version=\"1.0\" encoding=\"UTF-8\" standalone=\"no\"?>\n<!DOCTYPE svg PUBLIC \"-//W3C//DTD SVG 1.1//EN\"\n \"http://www.w3.org/Graphics/SVG/1.1/DTD/svg11.dtd\">\n<!-- Generated by graphviz version 2.40.1 (20161225.0304)\n -->\n<!-- Title: %3 Pages: 1 -->\n<svg width=\"134pt\" height=\"44pt\"\n viewBox=\"0.00 0.00 134.09 44.00\" xmlns=\"http://www.w3.org/2000/svg\" xmlns:xlink=\"http://www.w3.org/1999/xlink\">\n<g id=\"graph0\" class=\"graph\" transform=\"scale(1 1) rotate(0) translate(4 40)\">\n<title>%3</title>\n<polygon fill=\"#ffffff\" stroke=\"transparent\" points=\"-4,4 -4,-40 130.0888,-40 130.0888,4 -4,4\"/>\n<!-- roll -->\n<g id=\"node1\" class=\"node\">\n<title>roll</title>\n<ellipse fill=\"none\" stroke=\"#000000\" cx=\"63.0444\" cy=\"-18\" rx=\"63.0888\" ry=\"18\"/>\n<text text-anchor=\"middle\" x=\"63.0444\" y=\"-14.3\" font-family=\"Times,serif\" font-size=\"14.00\" fill=\"#000000\">roll ~ Mixture</text>\n</g>\n</g>\n</svg>\n"
          },
          "metadata": {
            "tags": []
          },
          "execution_count": 12
        }
      ]
    },
    {
      "cell_type": "code",
      "metadata": {
        "id": "jEi8aueAZixA",
        "colab_type": "code",
        "colab": {
          "base_uri": "https://localhost:8080/",
          "height": 331
        },
        "outputId": "86875481-ca58-46fa-8419-eca0c1f496f7"
      },
      "source": [
        "az.plot_posterior(trace_m_5_6['roll'], ec='w')\n",
        "plt.xlim([0,25])"
      ],
      "execution_count": 13,
      "outputs": [
        {
          "output_type": "execute_result",
          "data": {
            "text/plain": [
              "(0, 25)"
            ]
          },
          "metadata": {
            "tags": []
          },
          "execution_count": 13
        },
        {
          "output_type": "display_data",
          "data": {
            "image/png": "[encoded data removed]",
            "text/plain": [
              "<Figure size 432x288 with 1 Axes>"
            ]
          },
          "metadata": {
            "tags": []
          }
        }
      ]
    },
    {
      "cell_type": "code",
      "metadata": {
        "id": "u-Vf67L9bXNB",
        "colab_type": "code",
        "colab": {}
      },
      "source": [
        ""
      ],
      "execution_count": 0,
      "outputs": []
    }
  ]
}