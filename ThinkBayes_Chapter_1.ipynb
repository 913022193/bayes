{
  "nbformat": 4,
  "nbformat_minor": 0,
  "metadata": {
    "colab": {
      "name": "ThinkBayes - Chapter 1.ipynb",
      "provenance": [],
      "collapsed_sections": [],
      "include_colab_link": true
    },
    "kernelspec": {
      "name": "python3",
      "display_name": "Python 3"
    }
  },
  "cells": [
    {
      "cell_type": "markdown",
      "metadata": {
        "id": "view-in-github",
        "colab_type": "text"
      },
      "source": [
        "<a href=\"https://colab.research.google.com/github/ricardoV94/ThinkBayesPymc3/blob/master/ThinkBayes_Chapter_1.ipynb\" target=\"_parent\"><img src=\"https://colab.research.google.com/assets/colab-badge.svg\" alt=\"Open In Colab\"/></a>"
      ]
    },
    {
      "cell_type": "code",
      "metadata": {
        "id": "xVPW-yWN8sm1",
        "colab_type": "code",
        "colab": {}
      },
      "source": [
        "import numpy as np\n",
        "import pymc3 as pm\n",
        "import matplotlib.pyplot as plt\n",
        "import theano.tensor as tt"
      ],
      "execution_count": 0,
      "outputs": []
    },
    {
      "cell_type": "code",
      "metadata": {
        "id": "NS8H6smj8xkR",
        "colab_type": "code",
        "outputId": "b6096578-f1a9-495a-9b29-b7c11dcbf785",
        "colab": {
          "base_uri": "https://localhost:8080/",
          "height": 86
        }
      },
      "source": [
        "# The cookie problem\n",
        "with pm.Model() as m_1_4:\n",
        "    # Prior \n",
        "    bowl1 = pm.Bernoulli('bowl1', 1/2)\n",
        "\n",
        "    # Conditional probabality / Likelihood\n",
        "    p_vanilla = pm.math.switch(bowl1, 3/4, 1/2)\n",
        "    vanilla = pm.Bernoulli('vanilla', p_vanilla, observed=True)\n",
        "\n",
        "    trace_m_1_4 = pm.sample(500)"
      ],
      "execution_count": 0,
      "outputs": [
        {
          "output_type": "stream",
          "text": [
            "Sequential sampling (2 chains in 1 job)\n",
            "BinaryGibbsMetropolis: [bowl1]\n",
            "100%|██████████| 1000/1000 [00:00<00:00, 8033.06it/s]\n",
            "100%|██████████| 1000/1000 [00:00<00:00, 8899.00it/s]\n"
          ],
          "name": "stderr"
        }
      ]
    },
    {
      "cell_type": "code",
      "metadata": {
        "id": "gtynS_L0--Zd",
        "colab_type": "code",
        "outputId": "9308cb9a-6c4f-4dff-fbd4-72f63a0e7a05",
        "colab": {
          "base_uri": "https://localhost:8080/",
          "height": 34
        }
      },
      "source": [
        "trace_m_1_4['bowl1'].mean(), 3/5"
      ],
      "execution_count": 0,
      "outputs": [
        {
          "output_type": "execute_result",
          "data": {
            "text/plain": [
              "(0.591, 0.6)"
            ]
          },
          "metadata": {
            "tags": []
          },
          "execution_count": 9
        }
      ]
    },
    {
      "cell_type": "code",
      "metadata": {
        "id": "Q7fWCigt_I6R",
        "colab_type": "code",
        "outputId": "6ad46945-dabd-4b63-b10d-3d8d0f72033b",
        "colab": {
          "base_uri": "https://localhost:8080/",
          "height": 86
        }
      },
      "source": [
        "# The M&M problem\n",
        "with pm.Model() as m_1_6:\n",
        "    # Prior \n",
        "    _1994 = pm.Bernoulli('_1994', 1/2)\n",
        "\n",
        "    # Conditional probabality / Likelihood\n",
        "    p_yellow_and_green = pm.math.switch(_1994, .20*.20, .14*.10)\n",
        "    yellow_and_green = pm.Bernoulli('yellow_and_green', p_yellow_and_green, observed=True)\n",
        "\n",
        "    trace_m_1_6 = pm.sample(500)"
      ],
      "execution_count": 0,
      "outputs": [
        {
          "output_type": "stream",
          "text": [
            "Sequential sampling (2 chains in 1 job)\n",
            "BinaryGibbsMetropolis: [_1994]\n",
            "100%|██████████| 1000/1000 [00:00<00:00, 9109.93it/s]\n",
            "100%|██████████| 1000/1000 [00:00<00:00, 9107.10it/s]\n"
          ],
          "name": "stderr"
        }
      ]
    },
    {
      "cell_type": "code",
      "metadata": {
        "id": "K5DQUoZNBS_I",
        "colab_type": "code",
        "outputId": "577100b6-aec8-4353-d57e-cd76521661ef",
        "colab": {
          "base_uri": "https://localhost:8080/",
          "height": 34
        }
      },
      "source": [
        "trace_m_1_6['_1994'].mean(), 20/27"
      ],
      "execution_count": 0,
      "outputs": [
        {
          "output_type": "execute_result",
          "data": {
            "text/plain": [
              "(0.744, 0.7407407407407407)"
            ]
          },
          "metadata": {
            "tags": []
          },
          "execution_count": 24
        }
      ]
    },
    {
      "cell_type": "code",
      "metadata": {
        "id": "wrdGgZbYBZSH",
        "colab_type": "code",
        "outputId": "209b2b97-c4a6-4b32-d823-15b65c9046cf",
        "colab": {
          "base_uri": "https://localhost:8080/",
          "height": 86
        }
      },
      "source": [
        "# The Monty Hall problem\n",
        "with pm.Model() as m_1_7:\n",
        "    # Prior \n",
        "    door = pm.Categorical('door', np.ones(3)/3)\n",
        "\n",
        "    # Conditional probabality / Likelihood\n",
        "    p_doorB = pm.math.switch(tt.eq(door, 0), 1/2, \n",
        "                             (pm.math.switch(tt.eq(door, 1), 0, 1)))\n",
        "    doorB = pm.Bernoulli('door_B', p_doorB, observed=True)\n",
        "\n",
        "    trace_m_1_7 = pm.sample(500)"
      ],
      "execution_count": 11,
      "outputs": [
        {
          "output_type": "stream",
          "text": [
            "Sequential sampling (2 chains in 1 job)\n",
            "CategoricalGibbsMetropolis: [door]\n",
            "100%|██████████| 1000/1000 [00:00<00:00, 7177.38it/s]\n",
            "100%|██████████| 1000/1000 [00:00<00:00, 7272.46it/s]\n"
          ],
          "name": "stderr"
        }
      ]
    },
    {
      "cell_type": "code",
      "metadata": {
        "id": "iOl41qqYDgEk",
        "colab_type": "code",
        "colab": {
          "base_uri": "https://localhost:8080/",
          "height": 34
        },
        "outputId": "3bfbee60-984b-452c-d90d-c6c8925fe16e"
      },
      "source": [
        "(trace_m_1_7['door'] == 0).mean(), (trace_m_1_7['door'] == 2).mean(), 1/3, 2/3"
      ],
      "execution_count": 12,
      "outputs": [
        {
          "output_type": "execute_result",
          "data": {
            "text/plain": [
              "(0.326, 0.674, 0.3333333333333333, 0.6666666666666666)"
            ]
          },
          "metadata": {
            "tags": []
          },
          "execution_count": 12
        }
      ]
    },
    {
      "cell_type": "code",
      "metadata": {
        "id": "euN9kGjFLczv",
        "colab_type": "code",
        "colab": {}
      },
      "source": [
        ""
      ],
      "execution_count": 0,
      "outputs": []
    }
  ]
}