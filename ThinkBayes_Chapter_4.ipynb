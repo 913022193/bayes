{
  "nbformat": 4,
  "nbformat_minor": 0,
  "metadata": {
    "colab": {
      "name": "ThinkBayes - Chapter 4.ipynb",
      "provenance": [],
      "collapsed_sections": [],
      "include_colab_link": true
    },
    "kernelspec": {
      "name": "python3",
      "display_name": "Python 3"
    }
  },
  "cells": [
    {
      "cell_type": "markdown",
      "metadata": {
        "id": "view-in-github",
        "colab_type": "text"
      },
      "source": [
        "<a href=\"https://colab.research.google.com/github/ricardoV94/ThinkBayesPymc3/blob/master/ThinkBayes_Chapter_4.ipynb\" target=\"_parent\"><img src=\"https://colab.research.google.com/assets/colab-badge.svg\" alt=\"Open In Colab\"/></a>"
      ]
    },
    {
      "cell_type": "code",
      "metadata": {
        "id": "_QFayNAHRAga",
        "colab_type": "code",
        "colab": {}
      },
      "source": [
        "%%capture\n",
        "pip install arviz"
      ],
      "execution_count": 0,
      "outputs": []
    },
    {
      "cell_type": "code",
      "metadata": {
        "id": "xVPW-yWN8sm1",
        "colab_type": "code",
        "colab": {}
      },
      "source": [
        "import numpy as np\n",
        "import pymc3 as pm\n",
        "import theano\n",
        "import theano.tensor as tt\n",
        "import arviz as az\n",
        "import matplotlib.pyplot as plt\n",
        "import seaborn as sns\n",
        "import scipy.stats as st"
      ],
      "execution_count": 0,
      "outputs": []
    },
    {
      "cell_type": "markdown",
      "metadata": {
        "id": "Pyv9Gqv2UZEL",
        "colab_type": "text"
      },
      "source": [
        "## 4.1 The Euro problem"
      ]
    },
    {
      "cell_type": "code",
      "metadata": {
        "id": "W1gHffSYbLui",
        "colab_type": "code",
        "colab": {
          "base_uri": "https://localhost:8080/",
          "height": 121
        },
        "outputId": "db030a38-5775-4e58-930c-f5043b69174f"
      },
      "source": [
        "with pm.Model() as m_4_1:\n",
        "    hypo = pm.Uniform('hypo', lower=0, upper=1)\n",
        "    like = pm.Bernoulli('like', p=hypo, observed=[1]*140 + [0]*110)\n",
        "    trace_m_4_1 = pm.sample(2000)"
      ],
      "execution_count": 3,
      "outputs": [
        {
          "output_type": "stream",
          "text": [
            "Auto-assigning NUTS sampler...\n",
            "Initializing NUTS using jitter+adapt_diag...\n",
            "Sequential sampling (2 chains in 1 job)\n",
            "NUTS: [hypo]\n",
            "100%|██████████| 2500/2500 [00:01<00:00, 1339.34it/s]\n",
            "100%|██████████| 2500/2500 [00:01<00:00, 1911.61it/s]\n"
          ],
          "name": "stderr"
        }
      ]
    },
    {
      "cell_type": "code",
      "metadata": {
        "id": "KtJArfKLbv7e",
        "colab_type": "code",
        "colab": {
          "base_uri": "https://localhost:8080/",
          "height": 86
        },
        "outputId": "31eafc6b-ff5f-4baa-e1c0-25ab4a83350f"
      },
      "source": [
        "print('Mode', st.mode(trace_m_4_1['hypo'])[0][0])\n",
        "print('Mean', np.mean(trace_m_4_1['hypo']))\n",
        "print('Median', np.median(trace_m_4_1['hypo']))\n",
        "print('95% CI', pm.stats.hpd(trace_m_4_1['hypo']))"
      ],
      "execution_count": 4,
      "outputs": [
        {
          "output_type": "stream",
          "text": [
            "Mode 0.5200941492616231\n",
            "Mean 0.5583541377763859\n",
            "Median 0.558874302974018\n",
            "95% CI [0.49944704 0.61796164]\n"
          ],
          "name": "stdout"
        }
      ]
    },
    {
      "cell_type": "code",
      "metadata": {
        "id": "zX3ISOyMeEXR",
        "colab_type": "code",
        "colab": {
          "base_uri": "https://localhost:8080/",
          "height": 121
        },
        "outputId": "b1db4f4a-3fbc-410d-d765-e3ed8380bc6b"
      },
      "source": [
        "# Now with a triangular prior\n",
        "with pm.Model() as m_4_3:\n",
        "    hypo = pm.Triangular('hypo', lower=0, upper=1, c=0.5)\n",
        "    like = pm.Bernoulli('like', p=hypo, observed=[1]*140 + [0]*110)\n",
        "    trace_m_4_3 = pm.sample(2000)"
      ],
      "execution_count": 5,
      "outputs": [
        {
          "output_type": "stream",
          "text": [
            "Auto-assigning NUTS sampler...\n",
            "Initializing NUTS using jitter+adapt_diag...\n",
            "Sequential sampling (2 chains in 1 job)\n",
            "NUTS: [hypo]\n",
            "100%|██████████| 2500/2500 [00:01<00:00, 1843.93it/s]\n",
            "100%|██████████| 2500/2500 [00:01<00:00, 1830.47it/s]\n"
          ],
          "name": "stderr"
        }
      ]
    },
    {
      "cell_type": "code",
      "metadata": {
        "id": "sc4N-zyyeSSb",
        "colab_type": "code",
        "colab": {
          "base_uri": "https://localhost:8080/",
          "height": 282
        },
        "outputId": "af56b181-5034-439a-a3c2-a4341cc7a4f9"
      },
      "source": [
        "sns.distplot(trace_m_4_1['hypo'], color='C0', hist=False, kde_kws={'lw':2}, label='uniform')\n",
        "sns.distplot(trace_m_4_3['hypo'], color='lightblue', hist=False, kde_kws={'lw':2}, label='triangle')\n",
        "plt.legend();\n",
        "plt.xlim([0,1])"
      ],
      "execution_count": 6,
      "outputs": [
        {
          "output_type": "execute_result",
          "data": {
            "text/plain": [
              "(0, 1)"
            ]
          },
          "metadata": {
            "tags": []
          },
          "execution_count": 6
        },
        {
          "output_type": "display_data",
          "data": {
            "image/png": "[encoded data removed]",
            "text/plain": [
              "<Figure size 432x288 with 1 Axes>"
            ]
          },
          "metadata": {
            "tags": []
          }
        }
      ]
    },
    {
      "cell_type": "code",
      "metadata": {
        "id": "TowTKlohVYsd",
        "colab_type": "code",
        "colab": {
          "base_uri": "https://localhost:8080/",
          "height": 121
        },
        "outputId": "24c46bdf-0aae-45d1-8b8b-7c9a157d568b"
      },
      "source": [
        "# Now with a beta prior\n",
        "with pm.Model() as m_4_5:\n",
        "    hypo = pm.Beta('hypo', alpha=1, beta=1)\n",
        "    like = pm.Bernoulli('like', p=hypo, observed=[1]*140 + [0]*110)\n",
        "    trace_m_4_5 = pm.sample(2000)"
      ],
      "execution_count": 7,
      "outputs": [
        {
          "output_type": "stream",
          "text": [
            "Auto-assigning NUTS sampler...\n",
            "Initializing NUTS using jitter+adapt_diag...\n",
            "Sequential sampling (2 chains in 1 job)\n",
            "NUTS: [hypo]\n",
            "100%|██████████| 2500/2500 [00:01<00:00, 1735.97it/s]\n",
            "100%|██████████| 2500/2500 [00:01<00:00, 1852.62it/s]\n"
          ],
          "name": "stderr"
        }
      ]
    },
    {
      "cell_type": "code",
      "metadata": {
        "id": "LwFTOP8SgA1R",
        "colab_type": "code",
        "colab": {
          "base_uri": "https://localhost:8080/",
          "height": 348
        },
        "outputId": "5bf6d974-8410-49ce-89e3-65292fd74bf3"
      },
      "source": [
        "az.plot_posterior(trace_m_4_5['hypo'])"
      ],
      "execution_count": 8,
      "outputs": [
        {
          "output_type": "execute_result",
          "data": {
            "text/plain": [
              "array([<matplotlib.axes._subplots.AxesSubplot object at 0x7f95f01557f0>],\n",
              "      dtype=object)"
            ]
          },
          "metadata": {
            "tags": []
          },
          "execution_count": 8
        },
        {
          "output_type": "display_data",
          "data": {
            "image/png": "[encoded data removed]",
            "text/plain": [
              "<Figure size 432x288 with 1 Axes>"
            ]
          },
          "metadata": {
            "tags": []
          }
        }
      ]
    },
    {
      "cell_type": "code",
      "metadata": {
        "id": "a-v1CiwGgHOi",
        "colab_type": "code",
        "colab": {}
      },
      "source": [
        ""
      ],
      "execution_count": 0,
      "outputs": []
    }
  ]
}