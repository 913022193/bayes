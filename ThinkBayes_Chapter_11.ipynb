{
  "nbformat": 4,
  "nbformat_minor": 0,
  "metadata": {
    "colab": {
      "name": "ThinkBayes - Chapter 11.ipynb",
      "provenance": [],
      "collapsed_sections": [],
      "toc_visible": true,
      "include_colab_link": true
    },
    "kernelspec": {
      "name": "python3",
      "display_name": "Python 3"
    }
  },
  "cells": [
    {
      "cell_type": "markdown",
      "metadata": {
        "id": "view-in-github",
        "colab_type": "text"
      },
      "source": [
        "<a href=\"https://colab.research.google.com/github/ricardoV94/ThinkBayesPymc3/blob/master/ThinkBayes_Chapter_11.ipynb\" target=\"_parent\"><img src=\"https://colab.research.google.com/assets/colab-badge.svg\" alt=\"Open In Colab\"/></a>"
      ]
    },
    {
      "cell_type": "code",
      "metadata": {
        "id": "_QFayNAHRAga",
        "colab_type": "code",
        "colab": {}
      },
      "source": [
        "%%capture\n",
        "pip install arviz"
      ],
      "execution_count": 0,
      "outputs": []
    },
    {
      "cell_type": "code",
      "metadata": {
        "id": "xVPW-yWN8sm1",
        "colab_type": "code",
        "colab": {}
      },
      "source": [
        "import numpy as np\n",
        "import pymc3 as pm\n",
        "import theano.tensor as tt\n",
        "import arviz as az\n",
        "import matplotlib.pyplot as plt\n",
        "import seaborn as sns"
      ],
      "execution_count": 0,
      "outputs": []
    },
    {
      "cell_type": "markdown",
      "metadata": {
        "id": "Q_t4c5pxiCCP",
        "colab_type": "text"
      },
      "source": [
        "## 11.1 Back to the Euro problem"
      ]
    },
    {
      "cell_type": "code",
      "metadata": {
        "id": "O1zZZrye1gAr",
        "colab_type": "code",
        "colab": {
          "base_uri": "https://localhost:8080/",
          "height": 86
        },
        "outputId": "f13616fa-4b5c-4281-aeea-0a204175842a"
      },
      "source": [
        "with pm.Model() as m_11_1:\n",
        "    m = pm.Bernoulli('m', p=.5)\n",
        "    p = pm.math.switch(m, .5, .56)\n",
        "    like = pm.Binomial('like', n=250, p=p, observed=140)\n",
        "    trace_m_11_1 = pm.sample(10000)"
      ],
      "execution_count": 3,
      "outputs": [
        {
          "output_type": "stream",
          "text": [
            "Sequential sampling (2 chains in 1 job)\n",
            "BinaryGibbsMetropolis: [m]\n",
            "100%|██████████| 10500/10500 [00:01<00:00, 5477.46it/s]\n",
            "100%|██████████| 10500/10500 [00:01<00:00, 7955.28it/s]\n"
          ],
          "name": "stderr"
        }
      ]
    },
    {
      "cell_type": "code",
      "metadata": {
        "id": "4wmxcJT538Od",
        "colab_type": "code",
        "colab": {
          "base_uri": "https://localhost:8080/",
          "height": 34
        },
        "outputId": "f1e74cea-b14f-4809-fcf6-af99ef2c92fe"
      },
      "source": [
        "p = 1 - np.mean(trace_m_11_1['m'])\n",
        "odds = p/(1-p)\n",
        "'B_cheat', odds"
      ],
      "execution_count": 4,
      "outputs": [
        {
          "output_type": "execute_result",
          "data": {
            "text/plain": [
              "('B_cheat', 6.183908045977012)"
            ]
          },
          "metadata": {
            "tags": []
          },
          "execution_count": 4
        }
      ]
    },
    {
      "cell_type": "markdown",
      "metadata": {
        "id": "_i6cKq6Q6gZz",
        "colab_type": "text"
      },
      "source": [
        "### 11.2 Making a fair comparison"
      ]
    },
    {
      "cell_type": "code",
      "metadata": {
        "id": "PwYieIJ34Sxz",
        "colab_type": "code",
        "colab": {
          "base_uri": "https://localhost:8080/",
          "height": 86
        },
        "outputId": "ef8780b9-59b7-4463-c01b-55e5f47a6189"
      },
      "source": [
        "with pm.Model() as m_11_2_1:\n",
        "    m = pm.Bernoulli('m', p=.5)\n",
        "    m_sub = pm.Bernoulli('m_sub', p=.5)\n",
        "    p = pm.math.switch(m, .5, pm.math.switch(m_sub, .4, .6))\n",
        "    like = pm.Binomial('like', n=250, p=p, observed=140)\n",
        "    trace_m_11_2_1 = pm.sample(5000)"
      ],
      "execution_count": 5,
      "outputs": [
        {
          "output_type": "stream",
          "text": [
            "Sequential sampling (2 chains in 1 job)\n",
            "BinaryGibbsMetropolis: [m, m_sub]\n",
            "100%|██████████| 5500/5500 [00:01<00:00, 4567.44it/s]\n",
            "100%|██████████| 5500/5500 [00:01<00:00, 4576.80it/s]\n"
          ],
          "name": "stderr"
        }
      ]
    },
    {
      "cell_type": "code",
      "metadata": {
        "id": "vEWZfIN94pwt",
        "colab_type": "code",
        "colab": {
          "base_uri": "https://localhost:8080/",
          "height": 34
        },
        "outputId": "680ef278-2b86-4f71-957f-33523297266e"
      },
      "source": [
        "p = 1 - np.mean(trace_m_11_2_1['m'])\n",
        "odds = p/(1-p)\n",
        "'B_two', odds"
      ],
      "execution_count": 6,
      "outputs": [
        {
          "output_type": "execute_result",
          "data": {
            "text/plain": [
              "('B_two', 1.3282887077997672)"
            ]
          },
          "metadata": {
            "tags": []
          },
          "execution_count": 6
        }
      ]
    },
    {
      "cell_type": "code",
      "metadata": {
        "id": "0mdE8hh94_XW",
        "colab_type": "code",
        "colab": {
          "base_uri": "https://localhost:8080/",
          "height": 139
        },
        "outputId": "0acdc046-d5f4-4350-c0a2-68548e1c9a25"
      },
      "source": [
        "with pm.Model() as m_11_2_2:\n",
        "    m = pm.Bernoulli('m', p=.5)\n",
        "    p_uniform = pm.Uniform('p_uniform')\n",
        "    p = pm.math.switch(m, .5, p_uniform)\n",
        "    like = pm.Binomial('like', n=250, p=p, observed=140)\n",
        "    trace_m_11_2_2 = pm.sample(5000, step_kwargs={'nuts':{'target_accept':.9}}) # Pseudo-priors should also solve sampling divergences"
      ],
      "execution_count": 7,
      "outputs": [
        {
          "output_type": "stream",
          "text": [
            "Sequential sampling (2 chains in 1 job)\n",
            "CompoundStep\n",
            ">BinaryGibbsMetropolis: [m]\n",
            ">NUTS: [p_uniform]\n",
            "100%|██████████| 5500/5500 [00:08<00:00, 631.05it/s]\n",
            "100%|██████████| 5500/5500 [00:08<00:00, 672.37it/s]\n",
            "The number of effective samples is smaller than 25% for some parameters.\n"
          ],
          "name": "stderr"
        }
      ]
    },
    {
      "cell_type": "code",
      "metadata": {
        "id": "aWOVCvXO5Pim",
        "colab_type": "code",
        "colab": {
          "base_uri": "https://localhost:8080/",
          "height": 34
        },
        "outputId": "f613669e-8b20-4054-e175-3d50973faeb8"
      },
      "source": [
        "p = 1-np.mean(trace_m_11_2_2['m'])\n",
        "odds = p/(1-p)\n",
        "'B_uniform', odds"
      ],
      "execution_count": 8,
      "outputs": [
        {
          "output_type": "execute_result",
          "data": {
            "text/plain": [
              "('B_uniform', 0.48323939483832684)"
            ]
          },
          "metadata": {
            "tags": []
          },
          "execution_count": 8
        }
      ]
    },
    {
      "cell_type": "markdown",
      "metadata": {
        "id": "aBMjE1d86ycc",
        "colab_type": "text"
      },
      "source": [
        "### 11.3 The triangle prior"
      ]
    },
    {
      "cell_type": "code",
      "metadata": {
        "id": "qPdApk5R5QAG",
        "colab_type": "code",
        "colab": {
          "base_uri": "https://localhost:8080/",
          "height": 139
        },
        "outputId": "ff046549-1f0d-4c12-9472-60560befface"
      },
      "source": [
        "with pm.Model() as m_11_3:\n",
        "    m = pm.Bernoulli('m', p=.5)\n",
        "    p_triangle = pm.Triangular('p_triangle')\n",
        "    p = pm.math.switch(m, .5, p_triangle)\n",
        "    like = pm.Binomial('like', n=250, p=p, observed=140)\n",
        "    trace_m_11_3 = pm.sample(5000, tune=2000, step_kwargs={'nuts':{'target_accept':.9}}) # Pseudo-priors should also solve sampling divergences"
      ],
      "execution_count": 9,
      "outputs": [
        {
          "output_type": "stream",
          "text": [
            "Sequential sampling (2 chains in 1 job)\n",
            "CompoundStep\n",
            ">BinaryGibbsMetropolis: [m]\n",
            ">NUTS: [p_triangle]\n",
            "100%|██████████| 7000/7000 [00:07<00:00, 949.83it/s] \n",
            "100%|██████████| 7000/7000 [00:07<00:00, 962.65it/s]\n",
            "The number of effective samples is smaller than 25% for some parameters.\n"
          ],
          "name": "stderr"
        }
      ]
    },
    {
      "cell_type": "code",
      "metadata": {
        "id": "85wXoj1bZ6wp",
        "colab_type": "code",
        "colab": {
          "base_uri": "https://localhost:8080/",
          "height": 34
        },
        "outputId": "362b1d6d-d586-43c9-d2ee-36ce767d1016"
      },
      "source": [
        "p = 1-np.mean(trace_m_11_3['m'])\n",
        "odds = p/(1-p)\n",
        "'B_triangle', odds"
      ],
      "execution_count": 10,
      "outputs": [
        {
          "output_type": "execute_result",
          "data": {
            "text/plain": [
              "('B_triangle', 0.8358729575913348)"
            ]
          },
          "metadata": {
            "tags": []
          },
          "execution_count": 10
        }
      ]
    },
    {
      "cell_type": "code",
      "metadata": {
        "id": "DNOZ8LkeuXlB",
        "colab_type": "code",
        "colab": {}
      },
      "source": [
        ""
      ],
      "execution_count": 0,
      "outputs": []
    }
  ]
}