{
  "nbformat": 4,
  "nbformat_minor": 0,
  "metadata": {
    "colab": {
      "name": "ThinkBayes - Chapter 3.ipynb",
      "provenance": [],
      "collapsed_sections": [],
      "include_colab_link": true
    },
    "kernelspec": {
      "name": "python3",
      "display_name": "Python 3"
    }
  },
  "cells": [
    {
      "cell_type": "markdown",
      "metadata": {
        "id": "view-in-github",
        "colab_type": "text"
      },
      "source": [
        "<a href=\"https://colab.research.google.com/github/ricardoV94/ThinkBayesPymc3/blob/master/ThinkBayes_Chapter_3.ipynb\" target=\"_parent\"><img src=\"https://colab.research.google.com/assets/colab-badge.svg\" alt=\"Open In Colab\"/></a>"
      ]
    },
    {
      "cell_type": "code",
      "metadata": {
        "id": "_QFayNAHRAga",
        "colab_type": "code",
        "colab": {}
      },
      "source": [
        "%%capture\n",
        "pip install arviz"
      ],
      "execution_count": 0,
      "outputs": []
    },
    {
      "cell_type": "code",
      "metadata": {
        "id": "xVPW-yWN8sm1",
        "colab_type": "code",
        "colab": {}
      },
      "source": [
        "import numpy as np\n",
        "import pymc3 as pm\n",
        "import theano\n",
        "import theano.tensor as tt\n",
        "import arviz as az\n",
        "import matplotlib.pyplot as plt\n",
        "import seaborn as sns\n",
        "import scipy.stats as st"
      ],
      "execution_count": 0,
      "outputs": []
    },
    {
      "cell_type": "markdown",
      "metadata": {
        "id": "Pyv9Gqv2UZEL",
        "colab_type": "text"
      },
      "source": [
        "## 3.1 The dice problem"
      ]
    },
    {
      "cell_type": "code",
      "metadata": {
        "id": "uwvAQDrYWURB",
        "colab_type": "code",
        "colab": {}
      },
      "source": [
        "dice_sizes = np.array((4, 6, 8, 12, 20))\n",
        "\n",
        "with pm.Model() as m_3_1:\n",
        "    obs = pm.Data('data', [6])\n",
        "\n",
        "    dice = pm.Categorical('dice', p=np.ones(len(dice_sizes)), testval=2)\n",
        "\n",
        "    dice_size = theano.shared(dice_sizes)[dice]\n",
        "    roll = pm.DiscreteUniform('roll', lower=1, upper=dice_size, observed=obs)"
      ],
      "execution_count": 0,
      "outputs": []
    },
    {
      "cell_type": "code",
      "metadata": {
        "id": "UU0HrI_dW2R8",
        "colab_type": "code",
        "colab": {
          "base_uri": "https://localhost:8080/",
          "height": 104
        },
        "outputId": "7ce83717-9146-4d3e-d622-00572016fc14"
      },
      "source": [
        "with m_3_1:\n",
        "    pm.set_data({'data': [6]})\n",
        "    trace_m_3_1 = pm.sample(2000)\n",
        "[np.mean(trace_m_3_1['dice'] == k) for k in range(len(dice_sizes))]"
      ],
      "execution_count": 4,
      "outputs": [
        {
          "output_type": "stream",
          "text": [
            "Sequential sampling (2 chains in 1 job)\n",
            "CategoricalGibbsMetropolis: [dice]\n",
            "100%|██████████| 2500/2500 [00:01<00:00, 2488.10it/s]\n",
            "100%|██████████| 2500/2500 [00:00<00:00, 5914.86it/s]\n"
          ],
          "name": "stderr"
        },
        {
          "output_type": "execute_result",
          "data": {
            "text/plain": [
              "[0.0, 0.40375, 0.29075, 0.19525, 0.11025]"
            ]
          },
          "metadata": {
            "tags": []
          },
          "execution_count": 4
        }
      ]
    },
    {
      "cell_type": "code",
      "metadata": {
        "id": "o0KG25-5WVDi",
        "colab_type": "code",
        "colab": {
          "base_uri": "https://localhost:8080/",
          "height": 121
        },
        "outputId": "c7cd4434-925c-47b2-c9b3-abd1afc68a7a"
      },
      "source": [
        "with m_3_1:\n",
        "    pm.set_data({'data': [6, 6, 8, 7, 7, 5, 4]})\n",
        "    trace_m_3_1 = pm.sample(2000)\n",
        "[np.mean(trace_m_3_1['dice'] == k) for k in range(len(dice_sizes))]"
      ],
      "execution_count": 5,
      "outputs": [
        {
          "output_type": "stream",
          "text": [
            "Sequential sampling (2 chains in 1 job)\n",
            "CategoricalGibbsMetropolis: [dice]\n",
            "100%|██████████| 2500/2500 [00:00<00:00, 6115.12it/s]\n",
            "100%|██████████| 2500/2500 [00:00<00:00, 5871.38it/s]\n",
            "The number of effective samples is smaller than 25% for some parameters.\n"
          ],
          "name": "stderr"
        },
        {
          "output_type": "execute_result",
          "data": {
            "text/plain": [
              "[0.0, 0.0, 0.94175, 0.058, 0.00025]"
            ]
          },
          "metadata": {
            "tags": []
          },
          "execution_count": 5
        }
      ]
    },
    {
      "cell_type": "markdown",
      "metadata": {
        "id": "GMv1WnKGUjwD",
        "colab_type": "text"
      },
      "source": [
        "## The locomotive problem"
      ]
    },
    {
      "cell_type": "code",
      "metadata": {
        "id": "gtynS_L0--Zd",
        "colab_type": "code",
        "outputId": "e80bf09d-d388-4f00-ae78-ae1d68ab3926",
        "colab": {
          "base_uri": "https://localhost:8080/",
          "height": 104
        }
      },
      "source": [
        "with pm.Model() as m_3_2:\n",
        "\n",
        "    obs = pm.Data('data', [60])\n",
        "    upper = theano.shared(1000)\n",
        "\n",
        "    ntrains = pm.DiscreteUniform('ntrains', lower=1, upper=upper)\n",
        "\n",
        "    like = pm.DiscreteUniform('like', lower=1, upper=ntrains, observed=obs)\n",
        "    \n",
        "    trace_m_3_2 = pm.sample(10000)"
      ],
      "execution_count": 6,
      "outputs": [
        {
          "output_type": "stream",
          "text": [
            "Sequential sampling (2 chains in 1 job)\n",
            "Metropolis: [ntrains]\n",
            "100%|██████████| 10500/10500 [00:01<00:00, 7745.40it/s]\n",
            "100%|██████████| 10500/10500 [00:01<00:00, 7517.62it/s]\n",
            "The number of effective samples is smaller than 10% for some parameters.\n"
          ],
          "name": "stderr"
        }
      ]
    },
    {
      "cell_type": "code",
      "metadata": {
        "id": "f9FoIa4XR2W2",
        "colab_type": "code",
        "colab": {
          "base_uri": "https://localhost:8080/",
          "height": 34
        },
        "outputId": "49a45a98-a60c-408c-b501-a385040097cb"
      },
      "source": [
        "trace_m_3_2['ntrains'].mean(), st.mode(trace_m_3_2['ntrains'])[0][0]"
      ],
      "execution_count": 7,
      "outputs": [
        {
          "output_type": "execute_result",
          "data": {
            "text/plain": [
              "(326.1338, 70)"
            ]
          },
          "metadata": {
            "tags": []
          },
          "execution_count": 7
        }
      ]
    },
    {
      "cell_type": "code",
      "metadata": {
        "id": "euN9kGjFLczv",
        "colab_type": "code",
        "colab": {
          "base_uri": "https://localhost:8080/",
          "height": 313
        },
        "outputId": "70d720fd-e6bb-477d-ec31-5ac00760d336"
      },
      "source": [
        "ax = az.plot_posterior(trace_m_3_2['ntrains'], point_estimate='mean', bins=np.linspace(-1, 1001, 100))"
      ],
      "execution_count": 8,
      "outputs": [
        {
          "output_type": "display_data",
          "data": {
            "image/png": "[encoded data removed]",
            "text/plain": [
              "<Figure size 432x288 with 1 Axes>"
            ]
          },
          "metadata": {
            "tags": []
          }
        }
      ]
    },
    {
      "cell_type": "code",
      "metadata": {
        "id": "4TnnlJuHECSs",
        "colab_type": "code",
        "colab": {
          "base_uri": "https://localhost:8080/",
          "height": 173
        },
        "outputId": "b2dfba8d-301e-4996-9913-d42bf8d32ea1"
      },
      "source": [
        "results_m_3_3_1 = []\n",
        "for upper_bound in (500, 1000, 2000):\n",
        "    with m_3_2:\n",
        "        upper.set_value(upper_bound)\n",
        "        _trace_m_3_3 = pm.sample(10000, progressbar=False)\n",
        "    results_m_3_3_1.append((upper_bound, _trace_m_3_3['ntrains'].mean()))"
      ],
      "execution_count": 9,
      "outputs": [
        {
          "output_type": "stream",
          "text": [
            "Sequential sampling (2 chains in 1 job)\n",
            "Metropolis: [ntrains]\n",
            "The number of effective samples is smaller than 10% for some parameters.\n",
            "Sequential sampling (2 chains in 1 job)\n",
            "Metropolis: [ntrains]\n",
            "The number of effective samples is smaller than 10% for some parameters.\n",
            "Sequential sampling (2 chains in 1 job)\n",
            "Metropolis: [ntrains]\n",
            "The number of effective samples is smaller than 10% for some parameters.\n"
          ],
          "name": "stderr"
        }
      ]
    },
    {
      "cell_type": "code",
      "metadata": {
        "id": "xDcbbwraFO5S",
        "colab_type": "code",
        "colab": {
          "base_uri": "https://localhost:8080/",
          "height": 69
        },
        "outputId": "b6110bdd-0465-48f8-933d-5392a9794b7c"
      },
      "source": [
        "for r in results_m_3_3_1: print(r)"
      ],
      "execution_count": 10,
      "outputs": [
        {
          "output_type": "stream",
          "text": [
            "(500, 207.3576)\n",
            "(1000, 327.67665)\n",
            "(2000, 514.2339)\n"
          ],
          "name": "stdout"
        }
      ]
    },
    {
      "cell_type": "code",
      "metadata": {
        "id": "quK7CFzzIb5e",
        "colab_type": "code",
        "colab": {
          "base_uri": "https://localhost:8080/",
          "height": 173
        },
        "outputId": "ad039d6b-2102-4e28-9de3-93b277f8c40c"
      },
      "source": [
        "results_m_3_3_2 = []\n",
        "with m_3_2:\n",
        "    pm.set_data({'data': [60,30,90]})\n",
        "\n",
        "for upper_bound in (500, 1000, 2000):\n",
        "    with m_3_2:\n",
        "        upper.set_value(upper_bound)\n",
        "        _trace_m_3_3 = pm.sample(500, progressbar=False)\n",
        "    results_m_3_3_2.append((upper_bound, _trace_m_3_3['ntrains'].mean()))"
      ],
      "execution_count": 11,
      "outputs": [
        {
          "output_type": "stream",
          "text": [
            "Sequential sampling (2 chains in 1 job)\n",
            "Metropolis: [ntrains]\n",
            "The estimated number of effective samples is smaller than 200 for some parameters.\n",
            "Sequential sampling (2 chains in 1 job)\n",
            "Metropolis: [ntrains]\n",
            "The estimated number of effective samples is smaller than 200 for some parameters.\n",
            "Sequential sampling (2 chains in 1 job)\n",
            "Metropolis: [ntrains]\n",
            "The estimated number of effective samples is smaller than 200 for some parameters.\n"
          ],
          "name": "stderr"
        }
      ]
    },
    {
      "cell_type": "code",
      "metadata": {
        "id": "4OqmQRYqIk6P",
        "colab_type": "code",
        "colab": {
          "base_uri": "https://localhost:8080/",
          "height": 69
        },
        "outputId": "f361c510-6b70-44fc-d255-b9abdb283f61"
      },
      "source": [
        "for r in results_m_3_3_2: print(r)"
      ],
      "execution_count": 12,
      "outputs": [
        {
          "output_type": "stream",
          "text": [
            "(500, 140.211)\n",
            "(1000, 186.386)\n",
            "(2000, 157.828)\n"
          ],
          "name": "stdout"
        }
      ]
    },
    {
      "cell_type": "code",
      "metadata": {
        "id": "tkpnzrQOJPQj",
        "colab_type": "code",
        "colab": {
          "base_uri": "https://localhost:8080/",
          "height": 104
        },
        "outputId": "79eea254-5589-400e-d4b7-d1d86877879f"
      },
      "source": [
        "with pm.Model() as m_3_4:\n",
        "    obs = pm.Data('data', [60])\n",
        "    upper = theano.shared(1000)\n",
        "\n",
        "    ntrains = pm.DiscreteUniform('ntrains', lower=1, upper=upper)\n",
        "    pm.Potential('exp', -pm.math.log(ntrains)) # Equivalent to x**-1\n",
        "\n",
        "    like = pm.DiscreteUniform('like', lower=1, upper=ntrains, observed=obs)\n",
        "    trace_m_3_4 = pm.sample(10000)"
      ],
      "execution_count": 13,
      "outputs": [
        {
          "output_type": "stream",
          "text": [
            "Sequential sampling (2 chains in 1 job)\n",
            "Metropolis: [ntrains]\n",
            "100%|██████████| 10500/10500 [00:01<00:00, 8020.02it/s]\n",
            "100%|██████████| 10500/10500 [00:01<00:00, 7718.74it/s]\n",
            "The number of effective samples is smaller than 10% for some parameters.\n"
          ],
          "name": "stderr"
        }
      ]
    },
    {
      "cell_type": "code",
      "metadata": {
        "id": "fvmvFRQRSsbT",
        "colab_type": "code",
        "colab": {
          "base_uri": "https://localhost:8080/",
          "height": 377
        },
        "outputId": "679b5c0e-6765-48dd-b3e4-2e9de0c057a4"
      },
      "source": [
        "plt.figure(figsize=(12,6))\n",
        "plt.hist(trace_m_3_2['ntrains'], bins=np.linspace(-1, 1001, 100), histtype='step', density=True, lw=2, color='C0', label='uniform')\n",
        "plt.hist(trace_m_3_4['ntrains'], bins=np.linspace(-1, 1001, 100), histtype='step', density=True, lw=2, color='lightblue', label='power law', zorder=-1);\n",
        "plt.legend();"
      ],
      "execution_count": 14,
      "outputs": [
        {
          "output_type": "display_data",
          "data": {
            "image/png": "[encoded data removed]",
            "text/plain": [
              "<Figure size 864x432 with 1 Axes>"
            ]
          },
          "metadata": {
            "tags": []
          }
        }
      ]
    },
    {
      "cell_type": "code",
      "metadata": {
        "id": "-IeyZSMiPlfs",
        "colab_type": "code",
        "colab": {
          "base_uri": "https://localhost:8080/",
          "height": 173
        },
        "outputId": "d0d9b168-de37-4f81-966b-069dc0d86a60"
      },
      "source": [
        "results_m_3_4 = []\n",
        "\n",
        "with m_3_4:\n",
        "    pm.set_data({'data': [60,30,90]})\n",
        "\n",
        "for upper_bound in (500, 1000, 2000):\n",
        "    with m_3_4:\n",
        "        upper.set_value(upper_bound)\n",
        "        _trace_m_3_4 = pm.sample(10000, progressbar=False)\n",
        "    results_m_3_4.append((upper_bound, _trace_m_3_4['ntrains'].mean()))"
      ],
      "execution_count": 15,
      "outputs": [
        {
          "output_type": "stream",
          "text": [
            "Sequential sampling (2 chains in 1 job)\n",
            "Metropolis: [ntrains]\n",
            "The number of effective samples is smaller than 10% for some parameters.\n",
            "Sequential sampling (2 chains in 1 job)\n",
            "Metropolis: [ntrains]\n",
            "The number of effective samples is smaller than 10% for some parameters.\n",
            "Sequential sampling (2 chains in 1 job)\n",
            "Metropolis: [ntrains]\n",
            "The number of effective samples is smaller than 10% for some parameters.\n"
          ],
          "name": "stderr"
        }
      ]
    },
    {
      "cell_type": "code",
      "metadata": {
        "id": "anfUAW1eQKld",
        "colab_type": "code",
        "colab": {
          "base_uri": "https://localhost:8080/",
          "height": 69
        },
        "outputId": "0a561589-07ad-490d-a6d0-a90d222d4239"
      },
      "source": [
        "for r in results_m_3_4: print(r)"
      ],
      "execution_count": 16,
      "outputs": [
        {
          "output_type": "stream",
          "text": [
            "(500, 129.28955)\n",
            "(1000, 133.41605)\n",
            "(2000, 134.26495)\n"
          ],
          "name": "stdout"
        }
      ]
    },
    {
      "cell_type": "code",
      "metadata": {
        "id": "MqSqFexrOCFG",
        "colab_type": "code",
        "colab": {
          "base_uri": "https://localhost:8080/",
          "height": 34
        },
        "outputId": "44216991-1bdf-40cf-fcd1-1655fae2e5e2"
      },
      "source": [
        "pm.hpd(_trace_m_3_4['ntrains'], alpha=.05)"
      ],
      "execution_count": 19,
      "outputs": [
        {
          "output_type": "execute_result",
          "data": {
            "text/plain": [
              "array([ 90, 244])"
            ]
          },
          "metadata": {
            "tags": []
          },
          "execution_count": 19
        }
      ]
    },
    {
      "cell_type": "code",
      "metadata": {
        "id": "TowTKlohVYsd",
        "colab_type": "code",
        "colab": {}
      },
      "source": [
        ""
      ],
      "execution_count": 0,
      "outputs": []
    }
  ]
}