{
  "nbformat": 4,
  "nbformat_minor": 0,
  "metadata": {
    "colab": {
      "name": "ThinkBayes - Chapter 3.ipynb",
      "provenance": [],
      "collapsed_sections": [],
      "include_colab_link": true
    },
    "kernelspec": {
      "name": "python3",
      "display_name": "Python 3"
    }
  },
  "cells": [
    {
      "cell_type": "markdown",
      "metadata": {
        "id": "view-in-github",
        "colab_type": "text"
      },
      "source": [
        "<a href=\"https://colab.research.google.com/github/ricardoV94/ThinkBayesPymc3/blob/master/ThinkBayes_Chapter_3.ipynb\" target=\"_parent\"><img src=\"https://colab.research.google.com/assets/colab-badge.svg\" alt=\"Open In Colab\"/></a>"
      ]
    },
    {
      "cell_type": "code",
      "metadata": {
        "id": "_QFayNAHRAga",
        "colab_type": "code",
        "colab": {}
      },
      "source": [
        "%%capture\n",
        "pip install arviz"
      ],
      "execution_count": 0,
      "outputs": []
    },
    {
      "cell_type": "code",
      "metadata": {
        "id": "xVPW-yWN8sm1",
        "colab_type": "code",
        "colab": {}
      },
      "source": [
        "import numpy as np\n",
        "import pymc3 as pm\n",
        "import theano\n",
        "import theano.tensor as tt\n",
        "import arviz as az\n",
        "import matplotlib.pyplot as plt\n",
        "import seaborn as sns\n",
        "import scipy.stats as st"
      ],
      "execution_count": 0,
      "outputs": []
    },
    {
      "cell_type": "markdown",
      "metadata": {
        "id": "Pyv9Gqv2UZEL",
        "colab_type": "text"
      },
      "source": [
        "## 3.1 The dice problem"
      ]
    },
    {
      "cell_type": "code",
      "metadata": {
        "id": "uwvAQDrYWURB",
        "colab_type": "code",
        "colab": {}
      },
      "source": [
        "dice_sizes = np.array((4, 6, 8, 12, 20))\n",
        "\n",
        "with pm.Model() as m_3_1:\n",
        "    obs = pm.Data('data', [6])\n",
        "\n",
        "    dice = pm.Categorical('dice', p=np.ones(len(dice_sizes)), testval=2)\n",
        "\n",
        "    dice_size = theano.shared(dice_sizes)[dice]\n",
        "    roll = pm.DiscreteUniform('roll', lower=1, upper=dice_size, observed=obs)"
      ],
      "execution_count": 0,
      "outputs": []
    },
    {
      "cell_type": "code",
      "metadata": {
        "id": "UU0HrI_dW2R8",
        "colab_type": "code",
        "outputId": "6229de35-5453-404f-e87b-2894073105c7",
        "colab": {
          "base_uri": "https://localhost:8080/",
          "height": 104
        }
      },
      "source": [
        "with m_3_1:\n",
        "    pm.set_data({'data': [6]})\n",
        "    trace_m_3_1 = pm.sample(2000)\n",
        "[np.mean(trace_m_3_1['dice'] == k) for k in range(len(dice_sizes))]"
      ],
      "execution_count": 4,
      "outputs": [
        {
          "output_type": "stream",
          "text": [
            "Sequential sampling (2 chains in 1 job)\n",
            "CategoricalGibbsMetropolis: [dice]\n",
            "100%|██████████| 2500/2500 [00:01<00:00, 2439.93it/s]\n",
            "100%|██████████| 2500/2500 [00:00<00:00, 5795.12it/s]\n"
          ],
          "name": "stderr"
        },
        {
          "output_type": "execute_result",
          "data": {
            "text/plain": [
              "[0.0, 0.3875, 0.29075, 0.202, 0.11975]"
            ]
          },
          "metadata": {
            "tags": []
          },
          "execution_count": 4
        }
      ]
    },
    {
      "cell_type": "code",
      "metadata": {
        "id": "o0KG25-5WVDi",
        "colab_type": "code",
        "outputId": "2bb36dcc-a930-4cfb-85d9-e1bf725042fc",
        "colab": {
          "base_uri": "https://localhost:8080/",
          "height": 121
        }
      },
      "source": [
        "# Now with a few more rolls\n",
        "with m_3_1:\n",
        "    pm.set_data({'data': [6, 6, 8, 7, 7, 5, 4]})\n",
        "    trace_m_3_1 = pm.sample(2000)\n",
        "[np.mean(trace_m_3_1['dice'] == k) for k in range(len(dice_sizes))]"
      ],
      "execution_count": 5,
      "outputs": [
        {
          "output_type": "stream",
          "text": [
            "Sequential sampling (2 chains in 1 job)\n",
            "CategoricalGibbsMetropolis: [dice]\n",
            "100%|██████████| 2500/2500 [00:00<00:00, 5951.15it/s]\n",
            "100%|██████████| 2500/2500 [00:00<00:00, 5798.09it/s]\n",
            "The number of effective samples is smaller than 25% for some parameters.\n"
          ],
          "name": "stderr"
        },
        {
          "output_type": "execute_result",
          "data": {
            "text/plain": [
              "[0.0, 0.0, 0.945, 0.0545, 0.0005]"
            ]
          },
          "metadata": {
            "tags": []
          },
          "execution_count": 5
        }
      ]
    },
    {
      "cell_type": "markdown",
      "metadata": {
        "id": "GMv1WnKGUjwD",
        "colab_type": "text"
      },
      "source": [
        "## The locomotive problem"
      ]
    },
    {
      "cell_type": "code",
      "metadata": {
        "id": "gtynS_L0--Zd",
        "colab_type": "code",
        "outputId": "ee0d354c-172b-463d-cd63-21a6962ded0e",
        "colab": {
          "base_uri": "https://localhost:8080/",
          "height": 104
        }
      },
      "source": [
        "with pm.Model() as m_3_2:\n",
        "\n",
        "    obs = pm.Data('data', [60])\n",
        "    upper = theano.shared(1000)\n",
        "\n",
        "    ntrains = pm.DiscreteUniform('ntrains', lower=1, upper=upper)\n",
        "\n",
        "    like = pm.DiscreteUniform('like', lower=1, upper=ntrains, observed=obs)\n",
        "    \n",
        "    trace_m_3_2 = pm.sample(10000)"
      ],
      "execution_count": 6,
      "outputs": [
        {
          "output_type": "stream",
          "text": [
            "Sequential sampling (2 chains in 1 job)\n",
            "Metropolis: [ntrains]\n",
            "100%|██████████| 10500/10500 [00:01<00:00, 7820.71it/s]\n",
            "100%|██████████| 10500/10500 [00:01<00:00, 7389.53it/s]\n",
            "The number of effective samples is smaller than 10% for some parameters.\n"
          ],
          "name": "stderr"
        }
      ]
    },
    {
      "cell_type": "code",
      "metadata": {
        "id": "f9FoIa4XR2W2",
        "colab_type": "code",
        "outputId": "0795a58b-d056-462c-ec64-6d53a955988e",
        "colab": {
          "base_uri": "https://localhost:8080/",
          "height": 34
        }
      },
      "source": [
        "trace_m_3_2['ntrains'].mean(), st.mode(trace_m_3_2['ntrains'])[0][0]"
      ],
      "execution_count": 7,
      "outputs": [
        {
          "output_type": "execute_result",
          "data": {
            "text/plain": [
              "(333.8224, 63)"
            ]
          },
          "metadata": {
            "tags": []
          },
          "execution_count": 7
        }
      ]
    },
    {
      "cell_type": "code",
      "metadata": {
        "id": "euN9kGjFLczv",
        "colab_type": "code",
        "outputId": "c09ed086-5d4f-4d55-cb90-9ad17ab29c70",
        "colab": {
          "base_uri": "https://localhost:8080/",
          "height": 313
        }
      },
      "source": [
        "ax = az.plot_posterior(trace_m_3_2['ntrains'], point_estimate='mean', bins=np.linspace(-1, 1001, 100))"
      ],
      "execution_count": 8,
      "outputs": [
        {
          "output_type": "display_data",
          "data": {
            "image/png": "[encoded data removed]",
            "text/plain": [
              "<Figure size 432x288 with 1 Axes>"
            ]
          },
          "metadata": {
            "tags": []
          }
        }
      ]
    },
    {
      "cell_type": "code",
      "metadata": {
        "id": "4TnnlJuHECSs",
        "colab_type": "code",
        "outputId": "a5e7b914-9fe9-4bfc-c2b5-5da2575a7ab3",
        "colab": {
          "base_uri": "https://localhost:8080/",
          "height": 173
        }
      },
      "source": [
        "# Changing the width of the prior\n",
        "results_m_3_3_1 = []\n",
        "for upper_bound in (500, 1000, 2000):\n",
        "    with m_3_2:\n",
        "        upper.set_value(upper_bound)\n",
        "        _trace_m_3_3 = pm.sample(10000, progressbar=False)\n",
        "    results_m_3_3_1.append((upper_bound, _trace_m_3_3['ntrains'].mean()))"
      ],
      "execution_count": 9,
      "outputs": [
        {
          "output_type": "stream",
          "text": [
            "Sequential sampling (2 chains in 1 job)\n",
            "Metropolis: [ntrains]\n",
            "The number of effective samples is smaller than 10% for some parameters.\n",
            "Sequential sampling (2 chains in 1 job)\n",
            "Metropolis: [ntrains]\n",
            "The number of effective samples is smaller than 10% for some parameters.\n",
            "Sequential sampling (2 chains in 1 job)\n",
            "Metropolis: [ntrains]\n",
            "The number of effective samples is smaller than 10% for some parameters.\n"
          ],
          "name": "stderr"
        }
      ]
    },
    {
      "cell_type": "code",
      "metadata": {
        "id": "xDcbbwraFO5S",
        "colab_type": "code",
        "outputId": "96dbc4af-e753-406a-fdd7-3c65c833b8dc",
        "colab": {
          "base_uri": "https://localhost:8080/",
          "height": 69
        }
      },
      "source": [
        "for r in results_m_3_3_1: print(r)"
      ],
      "execution_count": 10,
      "outputs": [
        {
          "output_type": "stream",
          "text": [
            "(500, 205.4209)\n",
            "(1000, 338.8854)\n",
            "(2000, 539.4662)\n"
          ],
          "name": "stdout"
        }
      ]
    },
    {
      "cell_type": "code",
      "metadata": {
        "id": "quK7CFzzIb5e",
        "colab_type": "code",
        "outputId": "f9940532-0905-4ee8-a3ea-50a3f68fcc19",
        "colab": {
          "base_uri": "https://localhost:8080/",
          "height": 173
        }
      },
      "source": [
        "# Adding more observations\n",
        "results_m_3_3_2 = []\n",
        "with m_3_2:\n",
        "    pm.set_data({'data': [60,30,90]})\n",
        "\n",
        "for upper_bound in (500, 1000, 2000):\n",
        "    with m_3_2:\n",
        "        upper.set_value(upper_bound)\n",
        "        _trace_m_3_3 = pm.sample(10000, progressbar=False)\n",
        "    results_m_3_3_2.append((upper_bound, _trace_m_3_3['ntrains'].mean()))"
      ],
      "execution_count": 11,
      "outputs": [
        {
          "output_type": "stream",
          "text": [
            "Sequential sampling (2 chains in 1 job)\n",
            "Metropolis: [ntrains]\n",
            "The number of effective samples is smaller than 10% for some parameters.\n",
            "Sequential sampling (2 chains in 1 job)\n",
            "Metropolis: [ntrains]\n",
            "The number of effective samples is smaller than 10% for some parameters.\n",
            "Sequential sampling (2 chains in 1 job)\n",
            "Metropolis: [ntrains]\n",
            "The number of effective samples is smaller than 10% for some parameters.\n"
          ],
          "name": "stderr"
        }
      ]
    },
    {
      "cell_type": "code",
      "metadata": {
        "id": "4OqmQRYqIk6P",
        "colab_type": "code",
        "outputId": "a86732c5-e6ec-4b66-b9f2-14d27f706562",
        "colab": {
          "base_uri": "https://localhost:8080/",
          "height": 69
        }
      },
      "source": [
        "for r in results_m_3_3_2: print(r)"
      ],
      "execution_count": 12,
      "outputs": [
        {
          "output_type": "stream",
          "text": [
            "(500, 154.0134)\n",
            "(1000, 166.1017)\n",
            "(2000, 161.79345)\n"
          ],
          "name": "stdout"
        }
      ]
    },
    {
      "cell_type": "code",
      "metadata": {
        "id": "tkpnzrQOJPQj",
        "colab_type": "code",
        "outputId": "cfd457d6-bd7d-4afe-b6f9-5aee7e2835dd",
        "colab": {
          "base_uri": "https://localhost:8080/",
          "height": 104
        }
      },
      "source": [
        "# Changing the prior to a power law\n",
        "with pm.Model() as m_3_4:\n",
        "    obs = pm.Data('data', [60])\n",
        "    upper = theano.shared(1000)\n",
        "\n",
        "    ntrains = pm.DiscreteUniform('ntrains', lower=1, upper=upper)\n",
        "    pm.Potential('exp', -pm.math.log(ntrains)) # Equivalent to x**-1\n",
        "\n",
        "    like = pm.DiscreteUniform('like', lower=1, upper=ntrains, observed=obs)\n",
        "    trace_m_3_4 = pm.sample(10000)"
      ],
      "execution_count": 13,
      "outputs": [
        {
          "output_type": "stream",
          "text": [
            "Sequential sampling (2 chains in 1 job)\n",
            "Metropolis: [ntrains]\n",
            "100%|██████████| 10500/10500 [00:01<00:00, 7830.13it/s]\n",
            "100%|██████████| 10500/10500 [00:01<00:00, 7960.68it/s]\n",
            "The number of effective samples is smaller than 10% for some parameters.\n"
          ],
          "name": "stderr"
        }
      ]
    },
    {
      "cell_type": "code",
      "metadata": {
        "id": "fvmvFRQRSsbT",
        "colab_type": "code",
        "outputId": "5655bdad-d450-49d5-a075-18abf9fae02b",
        "colab": {
          "base_uri": "https://localhost:8080/",
          "height": 374
        }
      },
      "source": [
        "plt.figure(figsize=(12,6))\n",
        "plt.hist(trace_m_3_2['ntrains'], bins=np.linspace(-1, 1001, 100), histtype='step', density=True, lw=2, color='C0', label='uniform')\n",
        "plt.hist(trace_m_3_4['ntrains'], bins=np.linspace(-1, 1001, 100), histtype='step', density=True, lw=2, color='lightblue', label='power law', zorder=-1);\n",
        "plt.legend();"
      ],
      "execution_count": 14,
      "outputs": [
        {
          "output_type": "display_data",
          "data": {
            "image/png": "[encoded data removed]",
            "text/plain": [
              "<Figure size 864x432 with 1 Axes>"
            ]
          },
          "metadata": {
            "tags": []
          }
        }
      ]
    },
    {
      "cell_type": "code",
      "metadata": {
        "id": "-IeyZSMiPlfs",
        "colab_type": "code",
        "outputId": "00abcf3a-a42a-4796-b039-fc55d8270d45",
        "colab": {
          "base_uri": "https://localhost:8080/",
          "height": 173
        }
      },
      "source": [
        "# Checking sensitivity to change in prior width (with 3 datapoints)\n",
        "results_m_3_4 = []\n",
        "\n",
        "with m_3_4:\n",
        "    pm.set_data({'data': [60,30,90]})\n",
        "\n",
        "for upper_bound in (500, 1000, 2000):\n",
        "    with m_3_4:\n",
        "        upper.set_value(upper_bound)\n",
        "        _trace_m_3_4 = pm.sample(10000, progressbar=False)\n",
        "    results_m_3_4.append((upper_bound, _trace_m_3_4['ntrains'].mean()))"
      ],
      "execution_count": 15,
      "outputs": [
        {
          "output_type": "stream",
          "text": [
            "Sequential sampling (2 chains in 1 job)\n",
            "Metropolis: [ntrains]\n",
            "The estimated number of effective samples is smaller than 200 for some parameters.\n",
            "Sequential sampling (2 chains in 1 job)\n",
            "Metropolis: [ntrains]\n",
            "The number of effective samples is smaller than 10% for some parameters.\n",
            "Sequential sampling (2 chains in 1 job)\n",
            "Metropolis: [ntrains]\n",
            "The number of effective samples is smaller than 10% for some parameters.\n"
          ],
          "name": "stderr"
        }
      ]
    },
    {
      "cell_type": "code",
      "metadata": {
        "id": "anfUAW1eQKld",
        "colab_type": "code",
        "outputId": "1c7859b4-ab14-49df-fddc-78c4eb2114d5",
        "colab": {
          "base_uri": "https://localhost:8080/",
          "height": 69
        }
      },
      "source": [
        "for r in results_m_3_4: print(r)"
      ],
      "execution_count": 16,
      "outputs": [
        {
          "output_type": "stream",
          "text": [
            "(500, 128.07425)\n",
            "(1000, 131.06685)\n",
            "(2000, 129.82565)\n"
          ],
          "name": "stdout"
        }
      ]
    },
    {
      "cell_type": "code",
      "metadata": {
        "id": "MqSqFexrOCFG",
        "colab_type": "code",
        "outputId": "ee376f79-f712-40ee-9003-66618a7ffe44",
        "colab": {
          "base_uri": "https://localhost:8080/",
          "height": 34
        }
      },
      "source": [
        "pm.hpd(_trace_m_3_4['ntrains'], alpha=.05)"
      ],
      "execution_count": 17,
      "outputs": [
        {
          "output_type": "execute_result",
          "data": {
            "text/plain": [
              "array([ 90, 220])"
            ]
          },
          "metadata": {
            "tags": []
          },
          "execution_count": 17
        }
      ]
    },
    {
      "cell_type": "code",
      "metadata": {
        "id": "TowTKlohVYsd",
        "colab_type": "code",
        "colab": {}
      },
      "source": [
        ""
      ],
      "execution_count": 0,
      "outputs": []
    }
  ]
}