{
  "nbformat": 4,
  "nbformat_minor": 0,
  "metadata": {
    "colab": {
      "name": "ThinkBayes - Chapter 8.ipynb",
      "provenance": [],
      "collapsed_sections": [],
      "include_colab_link": true
    },
    "kernelspec": {
      "name": "python3",
      "display_name": "Python 3"
    }
  },
  "cells": [
    {
      "cell_type": "markdown",
      "metadata": {
        "id": "view-in-github",
        "colab_type": "text"
      },
      "source": [
        "<a href=\"https://colab.research.google.com/github/ricardoV94/ThinkBayesPymc3/blob/master/ThinkBayes_Chapter_8.ipynb\" target=\"_parent\"><img src=\"https://colab.research.google.com/assets/colab-badge.svg\" alt=\"Open In Colab\"/></a>"
      ]
    },
    {
      "cell_type": "code",
      "metadata": {
        "id": "_QFayNAHRAga",
        "colab_type": "code",
        "colab": {}
      },
      "source": [
        "%%capture\n",
        "pip install arviz"
      ],
      "execution_count": 0,
      "outputs": []
    },
    {
      "cell_type": "code",
      "metadata": {
        "id": "xVPW-yWN8sm1",
        "colab_type": "code",
        "colab": {}
      },
      "source": [
        "import numpy as np\n",
        "import pymc3 as pm\n",
        "import theano\n",
        "import theano.tensor as tt\n",
        "import arviz as az\n",
        "import matplotlib.pyplot as plt\n",
        "import seaborn as sns\n",
        "import scipy.stats as st"
      ],
      "execution_count": 0,
      "outputs": []
    },
    {
      "cell_type": "markdown",
      "metadata": {
        "id": "Q_t4c5pxiCCP",
        "colab_type": "text"
      },
      "source": [
        "## 8.1 The Red Line problem"
      ]
    },
    {
      "cell_type": "code",
      "metadata": {
        "id": "beZXE6lj9xnW",
        "colab_type": "code",
        "colab": {}
      },
      "source": [
        "# found on https://github.com/AllenDowney/ThinkBayes/blob/802f5c0b84a01a0c7fd1ca0ac66c2ae0dcd1b1e1/code/redline.py#L38 \n",
        "OBSERVED_GAP_TIMES = [\n",
        "    428.0, 705.0, 407.0, 465.0, 433.0, 425.0, 204.0, 506.0, 143.0, 351.0, \n",
        "    450.0, 598.0, 464.0, 749.0, 341.0, 586.0, 754.0, 256.0, 378.0, 435.0, \n",
        "    176.0, 405.0, 360.0, 519.0, 648.0, 374.0, 483.0, 537.0, 578.0, 534.0, \n",
        "    577.0, 619.0, 538.0, 331.0, 186.0, 629.0, 193.0, 360.0, 660.0, 484.0, \n",
        "    512.0, 315.0, 457.0, 404.0, 740.0, 388.0, 357.0, 485.0, 567.0, 160.0, \n",
        "    428.0, 387.0, 901.0, 187.0, 622.0, 616.0, 585.0, 474.0, 442.0, 499.0, \n",
        "    437.0, 620.0, 351.0, 286.0, 373.0, 232.0, 393.0, 745.0, 636.0, 758.0,\n",
        "]\n",
        "OBSERVED_GAP_TIMES = np.array(OBSERVED_GAP_TIMES)/60"
      ],
      "execution_count": 0,
      "outputs": []
    },
    {
      "cell_type": "code",
      "metadata": {
        "id": "soDHmJNO-TuS",
        "colab_type": "code",
        "colab": {}
      },
      "source": [
        "def estimate_pdf(samples, _min=None, _max=None):\n",
        "    smin, smax = np.min(samples), np.max(samples)\n",
        "    width = smax - smin\n",
        "\n",
        "    x = np.linspace(smin, smax, 100)\n",
        "    y = st.gaussian_kde(samples)(x)\n",
        "\n",
        "    # Extend beyond samples range\n",
        "    if _min is None:\n",
        "        _min = smin - 3 * width\n",
        "    if _max is None:\n",
        "        _max = smax + 3 * width\n",
        "    x = np.concatenate([[_min], x, [_max]])\n",
        "    y = np.concatenate([[0], y, [0]])\n",
        "    \n",
        "    return x, y\n",
        "\n",
        "gap_values, gap_pdfs = estimate_pdf(OBSERVED_GAP_TIMES, 0, 20)"
      ],
      "execution_count": 0,
      "outputs": []
    },
    {
      "cell_type": "code",
      "metadata": {
        "id": "R2kUqKpi-cYg",
        "colab_type": "code",
        "colab": {
          "base_uri": "https://localhost:8080/",
          "height": 121
        },
        "outputId": "be51315c-16ff-44fc-da21-ef917216504a"
      },
      "source": [
        "with pm.Model() as m_8_2:\n",
        "\n",
        "    # Time between trains\n",
        "    z = pm.Interpolated('z', gap_values, gap_pdfs)\n",
        "\n",
        "    # Experienced time between trains\n",
        "    zb = pm.Interpolated('zb', gap_values, gap_pdfs)\n",
        "    pm.Potential('bias', pm.math.log(zb))\n",
        "\n",
        "    trace_m_8_2 = pm.sample(2000)"
      ],
      "execution_count": 5,
      "outputs": [
        {
          "output_type": "stream",
          "text": [
            "Auto-assigning NUTS sampler...\n",
            "Initializing NUTS using jitter+adapt_diag...\n",
            "Sequential sampling (2 chains in 1 job)\n",
            "NUTS: [zb, z]\n",
            "100%|██████████| 2500/2500 [00:03<00:00, 744.48it/s]\n",
            "100%|██████████| 2500/2500 [00:02<00:00, 906.85it/s]\n"
          ],
          "name": "stderr"
        }
      ]
    },
    {
      "cell_type": "code",
      "metadata": {
        "id": "oqkdFx_lSTaN",
        "colab_type": "code",
        "outputId": "e1ee2e31-e375-4621-e401-df4ce579846d",
        "colab": {
          "base_uri": "https://localhost:8080/",
          "height": 282
        }
      },
      "source": [
        "sns.kdeplot(trace_m_8_2['z'], lw=2, label='z')\n",
        "sns.kdeplot(trace_m_8_2['zb'], lw=2, label='zb', color='lightblue')"
      ],
      "execution_count": 6,
      "outputs": [
        {
          "output_type": "execute_result",
          "data": {
            "text/plain": [
              "<matplotlib.axes._subplots.AxesSubplot at 0x7f1e740f7860>"
            ]
          },
          "metadata": {
            "tags": []
          },
          "execution_count": 6
        },
        {
          "output_type": "display_data",
          "data": {
            "image/png": "[encoded data removed]",
            "text/plain": [
              "<Figure size 432x288 with 1 Axes>"
            ]
          },
          "metadata": {
            "tags": []
          }
        }
      ]
    },
    {
      "cell_type": "markdown",
      "metadata": {
        "id": "X8ziDlN4mtRI",
        "colab_type": "text"
      },
      "source": [
        "## 8.3 Wait Times"
      ]
    },
    {
      "cell_type": "code",
      "metadata": {
        "id": "BI0GHT4oVHAz",
        "colab_type": "code",
        "outputId": "75ef6711-8aa3-460e-cf70-340f114b1206",
        "colab": {
          "base_uri": "https://localhost:8080/",
          "height": 121
        }
      },
      "source": [
        "with pm.Model() as m_8_3:\n",
        "\n",
        "    # Time between trains\n",
        "    z = pm.Interpolated('z', gap_values, gap_pdfs)\n",
        "\n",
        "    # Experienced time between trains\n",
        "    zb = pm.Interpolated('zb', gap_values, gap_pdfs)\n",
        "    pm.Potential('bias', pm.math.log(zb))\n",
        "\n",
        "    # Time between prev train and passenger arrival\n",
        "    x = pm.Uniform('x', lower=0, upper=zb)  \n",
        "    # Time between passenger arrival and next train\n",
        "    y = pm.Deterministic('y', zb - x)       \n",
        "\n",
        "    trace_m_8_3 = pm.sample(2000)"
      ],
      "execution_count": 7,
      "outputs": [
        {
          "output_type": "stream",
          "text": [
            "Auto-assigning NUTS sampler...\n",
            "Initializing NUTS using jitter+adapt_diag...\n",
            "Sequential sampling (2 chains in 1 job)\n",
            "NUTS: [x, zb, z]\n",
            "100%|██████████| 2500/2500 [00:03<00:00, 780.92it/s]\n",
            "100%|██████████| 2500/2500 [00:03<00:00, 721.80it/s]\n"
          ],
          "name": "stderr"
        }
      ]
    },
    {
      "cell_type": "code",
      "metadata": {
        "id": "00TARpCANHx4",
        "colab_type": "code",
        "colab": {
          "base_uri": "https://localhost:8080/",
          "height": 279
        },
        "outputId": "f10be80d-dd15-410b-a738-5cad9260d682"
      },
      "source": [
        "bins = np.linspace(0,20,100)\n",
        "plt.hist(trace_m_8_3['z'], bins=bins, cumulative=True, density=True, histtype='step', lw=2, color='darkblue', label='z')\n",
        "plt.hist(trace_m_8_3['zb'], bins=bins, cumulative=True, density=True, histtype='step', lw=2, label='zb')\n",
        "plt.hist(trace_m_8_3['y'], bins=bins, cumulative=True, density=True, histtype='step', lw=2, color='lightblue', label='y')\n",
        "\n",
        "plt.xlabel('Time (min)')\n",
        "plt.ylabel('CDF')\n",
        "plt.xlim([0,20])\n",
        "plt.xticks(np.linspace(0,20,5))\n",
        "plt.legend(loc=5);"
      ],
      "execution_count": 8,
      "outputs": [
        {
          "output_type": "display_data",
          "data": {
            "image/png": "[encoded data removed]",
            "text/plain": [
              "<Figure size 432x288 with 1 Axes>"
            ]
          },
          "metadata": {
            "tags": []
          }
        }
      ]
    },
    {
      "cell_type": "code",
      "metadata": {
        "id": "5wDwNII-WLrp",
        "colab_type": "code",
        "outputId": "3fe2e627-0182-4005-e133-8fb5ec7904ae",
        "colab": {
          "base_uri": "https://localhost:8080/",
          "height": 34
        }
      },
      "source": [
        "np.mean(trace_m_8_3['z']), np.mean(trace_m_8_3['zb']), np.mean(trace_m_8_3['y'])"
      ],
      "execution_count": 9,
      "outputs": [
        {
          "output_type": "execute_result",
          "data": {
            "text/plain": [
              "(7.7960817628179155, 9.114821032567878, 4.523772003355625)"
            ]
          },
          "metadata": {
            "tags": []
          },
          "execution_count": 9
        }
      ]
    },
    {
      "cell_type": "markdown",
      "metadata": {
        "id": "PV1D19aXrZYz",
        "colab_type": "text"
      },
      "source": [
        "## 7.4 Predicting wait times"
      ]
    },
    {
      "cell_type": "code",
      "metadata": {
        "id": "p7C_J-5yms4B",
        "colab_type": "code",
        "outputId": "775c2a1d-5866-42a6-cac4-2b6a26b23d16",
        "colab": {
          "base_uri": "https://localhost:8080/",
          "height": 121
        }
      },
      "source": [
        "with pm.Model() as m_8_4:\n",
        "\n",
        "    # Time between trains\n",
        "    z = pm.Interpolated('z', gap_values, gap_pdfs)\n",
        "\n",
        "    # Experienced time between trains\n",
        "    zb = pm.Interpolated('zb', gap_values, gap_pdfs)\n",
        "    pm.Potential('bias', pm.math.log(zb))\n",
        "\n",
        "    # Time between prev train and passenger arrival\n",
        "    x = pm.Uniform('x', lower=0, upper=zb)  \n",
        "    # Time between passenger arrival and next train\n",
        "    y = pm.Deterministic('y', zb - x)  \n",
        "\n",
        "    # Likelihood of observing n passengers\n",
        "    lam = 2 # Rate of passenger arrival per minute\n",
        "    like = pm.Poisson('like', mu=lam*x, observed=15)\n",
        "\n",
        "    trace_m_8_4 = pm.sample(2000)"
      ],
      "execution_count": 10,
      "outputs": [
        {
          "output_type": "stream",
          "text": [
            "Auto-assigning NUTS sampler...\n",
            "Initializing NUTS using jitter+adapt_diag...\n",
            "Sequential sampling (2 chains in 1 job)\n",
            "NUTS: [x, zb, z]\n",
            "100%|██████████| 2500/2500 [00:04<00:00, 596.02it/s]\n",
            "100%|██████████| 2500/2500 [00:03<00:00, 626.74it/s]\n"
          ],
          "name": "stderr"
        }
      ]
    },
    {
      "cell_type": "code",
      "metadata": {
        "id": "zivpt4bNPB2h",
        "colab_type": "code",
        "colab": {
          "base_uri": "https://localhost:8080/",
          "height": 283
        },
        "outputId": "ea0ba09c-34b3-4dbd-d1c9-e5da2b58017c"
      },
      "source": [
        "bins = np.linspace(0,20,100)\n",
        "plt.hist(trace_m_8_3['x'], bins=bins, cumulative=True, density=True, histtype='step', lw=2, color='darkblue', label='prior x')\n",
        "plt.hist(trace_m_8_4['x'], bins=bins, cumulative=True, density=True, histtype='step', lw=2, label='posterior x')\n",
        "plt.hist(trace_m_8_4['y'], bins=bins, cumulative=True, density=True, histtype='step', lw=2, color='lightblue', label='pred y')\n",
        "plt.xlabel('Time (min)')\n",
        "plt.ylabel('CDF')\n",
        "plt.xlim([0,20])\n",
        "plt.ylim([0,1])\n",
        "plt.xticks(np.linspace(0,20,5))\n",
        "plt.legend(loc=1);"
      ],
      "execution_count": 11,
      "outputs": [
        {
          "output_type": "display_data",
          "data": {
            "image/png": "[encoded data removed]",
            "text/plain": [
              "<Figure size 432x288 with 1 Axes>"
            ]
          },
          "metadata": {
            "tags": []
          }
        }
      ]
    },
    {
      "cell_type": "code",
      "metadata": {
        "id": "Gbd6UGE6WkeE",
        "colab_type": "code",
        "outputId": "0cd8c512-e470-408b-9329-6b860935711b",
        "colab": {
          "base_uri": "https://localhost:8080/",
          "height": 348
        }
      },
      "source": [
        "az.plot_posterior(trace_m_8_4, var_names=['y'], credible_interval=.80)"
      ],
      "execution_count": 12,
      "outputs": [
        {
          "output_type": "execute_result",
          "data": {
            "text/plain": [
              "array([<matplotlib.axes._subplots.AxesSubplot object at 0x7f1e7087e4e0>],\n",
              "      dtype=object)"
            ]
          },
          "metadata": {
            "tags": []
          },
          "execution_count": 12
        },
        {
          "output_type": "display_data",
          "data": {
            "image/png": "[encoded data removed]",
            "text/plain": [
              "<Figure size 432x288 with 1 Axes>"
            ]
          },
          "metadata": {
            "tags": []
          }
        }
      ]
    },
    {
      "cell_type": "markdown",
      "metadata": {
        "id": "9Q4Ps4Ey2IG7",
        "colab_type": "text"
      },
      "source": [
        "## 8.5 Estimating the arrival rate"
      ]
    },
    {
      "cell_type": "code",
      "metadata": {
        "id": "FZrAW5L-b_L_",
        "colab_type": "code",
        "colab": {}
      },
      "source": [
        "data = [[17, 4.6, 9],\n",
        "        [22, 1, 0],\n",
        "        [23, 1.4, 4],\n",
        "        [18, 5.4, 12],\n",
        "        [4, 5.8, 11]]\n",
        "data = np.array(data)\n",
        "y = data[:, 1]\n",
        "k2 = data[:, 2]"
      ],
      "execution_count": 0,
      "outputs": []
    },
    {
      "cell_type": "code",
      "metadata": {
        "id": "aZ7_gMMtcWMv",
        "colab_type": "code",
        "outputId": "bb9e99cf-4f7b-479b-fdd4-5681701f2231",
        "colab": {
          "base_uri": "https://localhost:8080/",
          "height": 332
        }
      },
      "source": [
        "with pm.Model() as m_8_5:\n",
        "    lam = pm.Uniform('lam', lower=0, upper=5) # Rate of arrival\n",
        "    like = pm.Poisson('like', lam*y, observed=k2)\n",
        "\n",
        "    trace_m_8_5_prior = pm.sample_prior_predictive(2000)\n",
        "    trace_m_8_5 = pm.sample(2000)\n",
        "pm.model_to_graphviz(m_8_5)"
      ],
      "execution_count": 14,
      "outputs": [
        {
          "output_type": "stream",
          "text": [
            "Auto-assigning NUTS sampler...\n",
            "Initializing NUTS using jitter+adapt_diag...\n",
            "Sequential sampling (2 chains in 1 job)\n",
            "NUTS: [lam]\n",
            "100%|██████████| 2500/2500 [00:01<00:00, 2084.09it/s]\n",
            "100%|██████████| 2500/2500 [00:01<00:00, 1897.33it/s]\n"
          ],
          "name": "stderr"
        },
        {
          "output_type": "execute_result",
          "data": {
            "text/plain": [
              "<graphviz.dot.Digraph at 0x7f1e622cb588>"
            ],
            "image/svg+xml": "<?xml version=\"1.0\" encoding=\"UTF-8\" standalone=\"no\"?>\n<!DOCTYPE svg PUBLIC \"-//W3C//DTD SVG 1.1//EN\"\n \"http://www.w3.org/Graphics/SVG/1.1/DTD/svg11.dtd\">\n<!-- Generated by graphviz version 2.40.1 (20161225.0304)\n -->\n<!-- Title: %3 Pages: 1 -->\n<svg width=\"168pt\" height=\"155pt\"\n viewBox=\"0.00 0.00 168.00 155.00\" xmlns=\"http://www.w3.org/2000/svg\" xmlns:xlink=\"http://www.w3.org/1999/xlink\">\n<g id=\"graph0\" class=\"graph\" transform=\"scale(1 1) rotate(0) translate(4 151)\">\n<title>%3</title>\n<polygon fill=\"#ffffff\" stroke=\"transparent\" points=\"-4,4 -4,-151 164,-151 164,4 -4,4\"/>\n<g id=\"clust1\" class=\"cluster\">\n<title>cluster5</title>\n<path fill=\"none\" stroke=\"#000000\" d=\"M20,-8C20,-8 140,-8 140,-8 146,-8 152,-14 152,-20 152,-20 152,-71 152,-71 152,-77 146,-83 140,-83 140,-83 20,-83 20,-83 14,-83 8,-77 8,-71 8,-71 8,-20 8,-20 8,-14 14,-8 20,-8\"/>\n<text text-anchor=\"middle\" x=\"140\" y=\"-15.8\" font-family=\"Times,serif\" font-size=\"14.00\" fill=\"#000000\">5</text>\n</g>\n<!-- lam -->\n<g id=\"node1\" class=\"node\">\n<title>lam</title>\n<ellipse fill=\"none\" stroke=\"#000000\" cx=\"80\" cy=\"-129\" rx=\"66.0889\" ry=\"18\"/>\n<text text-anchor=\"middle\" x=\"80\" y=\"-125.3\" font-family=\"Times,serif\" font-size=\"14.00\" fill=\"#000000\">lam ~ Uniform</text>\n</g>\n<!-- like -->\n<g id=\"node2\" class=\"node\">\n<title>like</title>\n<ellipse fill=\"#d3d3d3\" stroke=\"#000000\" cx=\"80\" cy=\"-57\" rx=\"63.8893\" ry=\"18\"/>\n<text text-anchor=\"middle\" x=\"80\" y=\"-53.3\" font-family=\"Times,serif\" font-size=\"14.00\" fill=\"#000000\">like ~ Poisson</text>\n</g>\n<!-- lam&#45;&gt;like -->\n<g id=\"edge1\" class=\"edge\">\n<title>lam&#45;&gt;like</title>\n<path fill=\"none\" stroke=\"#000000\" d=\"M80,-110.8314C80,-103.131 80,-93.9743 80,-85.4166\"/>\n<polygon fill=\"#000000\" stroke=\"#000000\" points=\"83.5001,-85.4132 80,-75.4133 76.5001,-85.4133 83.5001,-85.4132\"/>\n</g>\n</g>\n</svg>\n"
          },
          "metadata": {
            "tags": []
          },
          "execution_count": 14
        }
      ]
    },
    {
      "cell_type": "code",
      "metadata": {
        "id": "HteN6fD2cWZs",
        "colab_type": "code",
        "outputId": "b6c36d28-a1f8-49ed-fb4c-6369b41d2e7a",
        "colab": {
          "base_uri": "https://localhost:8080/",
          "height": 279
        }
      },
      "source": [
        "bins = np.linspace(0,5,50)\n",
        "plt.hist(trace_m_8_5_prior['lam'], cumulative=True, density=True, histtype='step', bins=bins, lw=2, label='prior',)\n",
        "plt.hist(trace_m_8_5['lam'], cumulative=True, density=True, histtype='step', bins=bins, lw=2, label='posterior', color='lightblue')\n",
        "\n",
        "plt.xlabel('Time (min)')\n",
        "plt.ylabel('CDF')\n",
        "plt.xlim([0,5])\n",
        "plt.xticks(np.linspace(0,5,6))\n",
        "plt.legend(loc=2);"
      ],
      "execution_count": 15,
      "outputs": [
        {
          "output_type": "display_data",
          "data": {
            "image/png": "[encoded data removed]",
            "text/plain": [
              "<Figure size 432x288 with 1 Axes>"
            ]
          },
          "metadata": {
            "tags": []
          }
        }
      ]
    },
    {
      "cell_type": "code",
      "metadata": {
        "id": "8dDtmxM8cWdO",
        "colab_type": "code",
        "outputId": "2964fd7f-c5d9-4b09-efd3-eda0b2347178",
        "colab": {
          "base_uri": "https://localhost:8080/",
          "height": 34
        }
      },
      "source": [
        "np.mean(trace_m_8_5['lam']), np.median(trace_m_8_5['lam']), np.std(trace_m_8_5['lam'])"
      ],
      "execution_count": 16,
      "outputs": [
        {
          "output_type": "execute_result",
          "data": {
            "text/plain": [
              "(2.0343069058740944, 2.02113300805037, 0.3317197199743908)"
            ]
          },
          "metadata": {
            "tags": []
          },
          "execution_count": 16
        }
      ]
    },
    {
      "cell_type": "markdown",
      "metadata": {
        "id": "Sj9Iu1BXhPaC",
        "colab_type": "text"
      },
      "source": [
        "## 8.6 Incorporating uncertainty"
      ]
    },
    {
      "cell_type": "code",
      "metadata": {
        "id": "t85EP8KC8SZU",
        "colab_type": "code",
        "outputId": "52829375-1453-4327-e01a-58e96f9b6689",
        "colab": {
          "base_uri": "https://localhost:8080/",
          "height": 139
        }
      },
      "source": [
        "with pm.Model() as m_8_6:\n",
        "\n",
        "    # Time between trains\n",
        "    z = pm.Interpolated('z', gap_values, gap_pdfs)\n",
        "\n",
        "    # Experienced time between trains\n",
        "    zb = pm.Interpolated('zb', gap_values, gap_pdfs)\n",
        "    pm.Potential('bias', pm.math.log(zb))\n",
        "\n",
        "    # Time between prev train and passenger arrival\n",
        "    x = pm.Uniform('x', lower=0, upper=zb)  \n",
        "    # Time between passenger arrival and next train\n",
        "    y = pm.Deterministic('y', zb - x)  \n",
        "\n",
        "    # Likelihood of observing n passengers\n",
        "    lam = pm.Interpolated('lam', *estimate_pdf(trace_m_8_5['lam'], _min=0))\n",
        "    like = pm.Poisson('like', mu=lam*x, observed=15)\n",
        "\n",
        "    trace_m_8_6 = pm.sample(2000)"
      ],
      "execution_count": 17,
      "outputs": [
        {
          "output_type": "stream",
          "text": [
            "Auto-assigning NUTS sampler...\n",
            "Initializing NUTS using jitter+adapt_diag...\n",
            "Sequential sampling (2 chains in 1 job)\n",
            "NUTS: [lam, x, zb, z]\n",
            "100%|██████████| 2500/2500 [00:05<00:00, 434.90it/s]\n",
            "100%|██████████| 2500/2500 [00:05<00:00, 465.46it/s]\n",
            "The number of effective samples is smaller than 25% for some parameters.\n"
          ],
          "name": "stderr"
        }
      ]
    },
    {
      "cell_type": "code",
      "metadata": {
        "id": "nG7Teni3RNRb",
        "colab_type": "code",
        "colab": {
          "base_uri": "https://localhost:8080/",
          "height": 279
        },
        "outputId": "877091a9-d4b6-4217-927d-f6e10fa8b508"
      },
      "source": [
        "bins = np.linspace(0,10,50)\n",
        "plt.hist(trace_m_8_6['y'], bins=bins, cumulative=True, density=True, histtype='step', lw=2, color='darkblue', label='mix')\n",
        "step = .05\n",
        "for lam in np.arange(1, 3.1, step):\n",
        "    lam_l = lam - step/2\n",
        "    lam_h = lam + step/2\n",
        "    trials = np.where((trace_m_8_6['lam'] > lam_l) & (trace_m_8_6['lam'] <= lam_h))\n",
        "    plt.hist(trace_m_8_6['y'][trials], bins=bins, cumulative=True, density=True, histtype='step', color='darkblue', alpha=.2)\n",
        "\n",
        "\n",
        "plt.xlabel('Time (min)')\n",
        "plt.ylabel('CDF')\n",
        "plt.xticks(np.linspace(0,10,6))\n",
        "plt.legend(loc=2);"
      ],
      "execution_count": 18,
      "outputs": [
        {
          "output_type": "display_data",
          "data": {
            "image/png": "[encoded data removed]",
            "text/plain": [
              "<Figure size 432x288 with 1 Axes>"
            ]
          },
          "metadata": {
            "tags": []
          }
        }
      ]
    },
    {
      "cell_type": "code",
      "metadata": {
        "id": "6lqIVD-Mha1W",
        "colab_type": "code",
        "outputId": "11f05840-71cc-41a7-9d60-aab2f8d1012e",
        "colab": {
          "base_uri": "https://localhost:8080/",
          "height": 348
        }
      },
      "source": [
        "az.plot_posterior(trace_m_8_6, var_names=['y'], credible_interval=.80)"
      ],
      "execution_count": 19,
      "outputs": [
        {
          "output_type": "execute_result",
          "data": {
            "text/plain": [
              "array([<matplotlib.axes._subplots.AxesSubplot object at 0x7f1e5d921f60>],\n",
              "      dtype=object)"
            ]
          },
          "metadata": {
            "tags": []
          },
          "execution_count": 19
        },
        {
          "output_type": "display_data",
          "data": {
            "image/png": "[encoded data removed]",
            "text/plain": [
              "<Figure size 432x288 with 1 Axes>"
            ]
          },
          "metadata": {
            "tags": []
          }
        }
      ]
    },
    {
      "cell_type": "markdown",
      "metadata": {
        "id": "3_wy0E18-r4f",
        "colab_type": "text"
      },
      "source": [
        "## 8.7 Decision analysis\n",
        "\n",
        "Data missing..."
      ]
    },
    {
      "cell_type": "code",
      "metadata": {
        "id": "j2Tqa9xS_JIm",
        "colab_type": "code",
        "colab": {}
      },
      "source": [
        ""
      ],
      "execution_count": 0,
      "outputs": []
    }
  ]
}